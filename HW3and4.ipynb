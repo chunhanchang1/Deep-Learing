{
 "cells": [
  {
   "cell_type": "markdown",
   "metadata": {},
   "source": [
    "# 2. Simple Classification "
   ]
  },
  {
   "cell_type": "code",
   "execution_count": 1,
   "metadata": {},
   "outputs": [
    {
     "name": "stderr",
     "output_type": "stream",
     "text": [
      "C:\\Users\\CHANG\\Anaconda3\\lib\\site-packages\\h5py\\__init__.py:36: FutureWarning: Conversion of the second argument of issubdtype from `float` to `np.floating` is deprecated. In future, it will be treated as `np.float64 == np.dtype(float).type`.\n",
      "  from ._conv import register_converters as _register_converters\n",
      "Using TensorFlow backend.\n"
     ]
    }
   ],
   "source": [
    "from keras.models import Sequential"
   ]
  },
  {
   "cell_type": "code",
   "execution_count": 36,
   "metadata": {},
   "outputs": [],
   "source": [
    "import tensorflow as tf\n",
    "from tensorflow import keras\n"
   ]
  },
  {
   "cell_type": "code",
   "execution_count": 55,
   "metadata": {},
   "outputs": [],
   "source": [
    "import numpy as np\n",
    "np.random.seed(1337)  # for reproducibility\n",
    "from keras.datasets import mnist\n",
    "from keras.utils import np_utils\n",
    "from keras.models import Sequential\n",
    "from keras.layers import Dense, Activation\n",
    "from keras.optimizers import RMSprop"
   ]
  },
  {
   "cell_type": "code",
   "execution_count": 2,
   "metadata": {},
   "outputs": [],
   "source": [
    "import matplotlib.pyplot as plt\n",
    "%matplotlib inline\n",
    "import numpy as np\n",
    "\n",
    "# On some implementations of matplotlib, you may need to change this value\n",
    "IMAGE_SIZE = 72"
   ]
  },
  {
   "cell_type": "code",
   "execution_count": 3,
   "metadata": {},
   "outputs": [],
   "source": [
    "def generate_a_drawing(figsize, U, V, noise=0.0):\n",
    "    fig = plt.figure(figsize=(figsize,figsize))\n",
    "    ax = plt.subplot(111)\n",
    "    plt.axis('Off')\n",
    "    ax.set_xlim(0,figsize)\n",
    "    ax.set_ylim(0,figsize)\n",
    "    ax.fill(U, V, \"k\")\n",
    "    fig.canvas.draw()\n",
    "    imdata = np.frombuffer(fig.canvas.tostring_rgb(), dtype=np.uint8)[::3].astype(np.float32)\n",
    "    imdata = imdata + noise * np.random.random(imdata.size)\n",
    "    plt.close(fig)\n",
    "    return imdata"
   ]
  },
  {
   "cell_type": "code",
   "execution_count": 4,
   "metadata": {},
   "outputs": [],
   "source": [
    "def generate_a_rectangle(noise=0.0, free_location=False):\n",
    "    figsize = 1.0    \n",
    "    U = np.zeros(4)\n",
    "    V = np.zeros(4)\n",
    "    if free_location:\n",
    "        corners = np.random.random(4)\n",
    "        top = max(corners[0], corners[1])\n",
    "        bottom = min(corners[0], corners[1])\n",
    "        left = min(corners[2], corners[3])\n",
    "        right = max(corners[2], corners[3])\n",
    "    else:\n",
    "        side = (0.3 + 0.7 * np.random.random()) * figsize\n",
    "        top = figsize/2 + side/2\n",
    "        bottom = figsize/2 - side/2\n",
    "        left = bottom\n",
    "        right = top\n",
    "    U[0] = U[1] = top\n",
    "    U[2] = U[3] = bottom\n",
    "    V[0] = V[3] = left\n",
    "    V[1] = V[2] = right\n",
    "    return generate_a_drawing(figsize, U, V, noise)\n"
   ]
  },
  {
   "cell_type": "code",
   "execution_count": 5,
   "metadata": {},
   "outputs": [],
   "source": [
    "def generate_a_disk(noise=0.0, free_location=False):\n",
    "    figsize = 1.0\n",
    "    if free_location:\n",
    "        center = np.random.random(2)\n",
    "    else:\n",
    "        center = (figsize/2, figsize/2)\n",
    "    radius = (0.3 + 0.7 * np.random.random()) * figsize/2\n",
    "    N = 50\n",
    "    U = np.zeros(N)\n",
    "    V = np.zeros(N)\n",
    "    i = 0\n",
    "    for t in np.linspace(0, 2*np.pi, N):\n",
    "        U[i] = center[0] + np.cos(t) * radius\n",
    "        V[i] = center[1] + np.sin(t) * radius\n",
    "        i = i + 1\n",
    "    return generate_a_drawing(figsize, U, V, noise)\n"
   ]
  },
  {
   "cell_type": "code",
   "execution_count": 6,
   "metadata": {},
   "outputs": [],
   "source": [
    "def generate_a_triangle(noise=0.0, free_location=False):\n",
    "    figsize = 1.0\n",
    "    if free_location:\n",
    "        U = np.random.random(3)\n",
    "        V = np.random.random(3)\n",
    "    else:\n",
    "        size = (0.3 + 0.7 * np.random.random())*figsize/2\n",
    "        middle = figsize/2\n",
    "        U = (middle, middle+size, middle-size)\n",
    "        V = (middle+size, middle-size, middle-size)\n",
    "    imdata = generate_a_drawing(figsize, U, V, noise)\n",
    "    return [imdata, [U[0], V[0], U[1], V[1], U[2], V[2]]]\n"
   ]
  },
  {
   "cell_type": "code",
   "execution_count": 13,
   "metadata": {},
   "outputs": [
    {
     "data": {
      "text/plain": [
       "<matplotlib.image.AxesImage at 0x2364c8038d0>"
      ]
     },
     "execution_count": 13,
     "metadata": {},
     "output_type": "execute_result"
    },
    {
     "data": {
      "image/png": "[encoded data removed]",
      "text/plain": [
       "<Figure size 432x288 with 1 Axes>"
      ]
     },
     "metadata": {},
     "output_type": "display_data"
    }
   ],
   "source": [
    "im = generate_a_rectangle(10, True)\n",
    "plt.imshow(im.reshape(IMAGE_SIZE,IMAGE_SIZE), cmap='gray')\n",
    "\n"
   ]
  },
  {
   "cell_type": "code",
   "execution_count": 25,
   "metadata": {},
   "outputs": [
    {
     "data": {
      "text/plain": [
       "<matplotlib.image.AxesImage at 0x2364c46f400>"
      ]
     },
     "execution_count": 25,
     "metadata": {},
     "output_type": "execute_result"
    },
    {
     "data": {
      "image/png": "[encoded data removed]",
      "text/plain": [
       "<Figure size 432x288 with 1 Axes>"
      ]
     },
     "metadata": {},
     "output_type": "display_data"
    }
   ],
   "source": [
    "im = generate_a_disk(10)\n",
    "plt.imshow(im.reshape(IMAGE_SIZE,IMAGE_SIZE), cmap='gray')\n",
    "\n"
   ]
  },
  {
   "cell_type": "code",
   "execution_count": 24,
   "metadata": {},
   "outputs": [
    {
     "data": {
      "text/plain": [
       "<matplotlib.image.AxesImage at 0x2364c8ec160>"
      ]
     },
     "execution_count": 24,
     "metadata": {},
     "output_type": "execute_result"
    },
    {
     "data": {
      "image/png": "[encoded data removed]",
      "text/plain": [
       "<Figure size 432x288 with 1 Axes>"
      ]
     },
     "metadata": {},
     "output_type": "display_data"
    }
   ],
   "source": [
    "[im, v] = generate_a_triangle(20, False)\n",
    "plt.imshow(im.reshape(IMAGE_SIZE,IMAGE_SIZE), cmap='gray')\n",
    "# why it becommes smaller and smaller?\n",
    "\n"
   ]
  },
  {
   "cell_type": "code",
   "execution_count": 8,
   "metadata": {},
   "outputs": [],
   "source": [
    "def generate_dataset_classification(nb_samples, noise=0.0, free_location=False):\n",
    "    # Getting im_size:\n",
    "    im_size = generate_a_rectangle().shape[0]\n",
    "    X = np.zeros([nb_samples,im_size])\n",
    "    Y = np.zeros(nb_samples)\n",
    "    print('Creating data:')\n",
    "    for i in range(nb_samples):\n",
    "        if i % 10 == 0:\n",
    "            print(i)\n",
    "        category = np.random.randint(3)\n",
    "        if category == 0:\n",
    "            X[i] = generate_a_rectangle(noise, free_location)\n",
    "        elif category == 1: \n",
    "            X[i] = generate_a_disk(noise, free_location)\n",
    "        else:\n",
    "            [X[i], V] = generate_a_triangle(noise, free_location)\n",
    "        Y[i] = category\n",
    "    X = (X + noise) / (255 + 2 * noise)\n",
    "    return [X, Y]\n",
    "\n",
    "def generate_test_set_classification():\n",
    "    np.random.seed(42)\n",
    "    [X_test, Y_test] = generate_dataset_classification(300, 20, True)\n",
    "    Y_test = np_utils.to_categorical(Y_test, 3) \n",
    "    return [X_test, Y_test]\n",
    "\n",
    "def generate_dataset_regression(nb_samples, noise=0.0):\n",
    "    # Getting im_size:\n",
    "    im_size = generate_a_triangle()[0].shape[0]\n",
    "    X = np.zeros([nb_samples,im_size])\n",
    "    Y = np.zeros([nb_samples, 6])\n",
    "    print('Creating data:')\n",
    "    for i in range(nb_samples):\n",
    "        if i % 10 == 0:\n",
    "            print(i)\n",
    "        [X[i], Y[i]] = generate_a_triangle(noise, True)\n",
    "    X = (X + noise) / (255 + 2 * noise)\n",
    "    return [X, Y]"
   ]
  },
  {
   "cell_type": "code",
   "execution_count": 11,
   "metadata": {},
   "outputs": [],
   "source": [
    "import matplotlib.patches as patches\n"
   ]
  },
  {
   "cell_type": "code",
   "execution_count": 12,
   "metadata": {},
   "outputs": [],
   "source": [
    "def visualize_prediction(x, y):\n",
    "    fig, ax = plt.subplots(figsize=(5, 5))\n",
    "    I = x.reshape((IMAGE_SIZE,IMAGE_SIZE))\n",
    "    ax.imshow(I, extent=[-0.15,1.15,-0.15,1.15],cmap='gray')\n",
    "    ax.set_xlim([0,1])\n",
    "    ax.set_ylim([0,1])\n",
    "\n",
    "    xy = y.reshape(3,2)\n",
    "    tri = patches.Polygon(xy, closed=True, fill = False, edgecolor = 'r', linewidth = 5, alpha = 0.5)\n",
    "    ax.add_patch(tri)\n",
    "\n",
    "    plt.show()\n",
    "\n",
    "def generate_test_set_regression():\n",
    "    np.random.seed(42)\n",
    "    [X_test, Y_test] = generate_dataset_regression(300, 20)\n",
    "    return [X_test, Y_test]\n",
    "\n"
   ]
  },
  {
   "cell_type": "markdown",
   "metadata": {},
   "source": [
    "Generate the data"
   ]
  },
  {
   "cell_type": "code",
   "execution_count": 229,
   "metadata": {},
   "outputs": [
    {
     "name": "stdout",
     "output_type": "stream",
     "text": [
      "Creating data:\n",
      "0\n",
      "10\n",
      "20\n",
      "30\n",
      "40\n",
      "50\n",
      "60\n",
      "70\n",
      "80\n",
      "90\n",
      "100\n",
      "110\n",
      "120\n",
      "130\n",
      "140\n",
      "150\n",
      "160\n",
      "170\n",
      "180\n",
      "190\n",
      "200\n",
      "210\n",
      "220\n",
      "230\n",
      "240\n",
      "250\n",
      "260\n",
      "270\n",
      "280\n",
      "290\n",
      "300\n",
      "310\n",
      "320\n",
      "330\n",
      "340\n",
      "350\n",
      "360\n",
      "370\n",
      "380\n",
      "390\n",
      "400\n",
      "410\n",
      "420\n",
      "430\n",
      "440\n",
      "450\n",
      "460\n",
      "470\n",
      "480\n",
      "490\n",
      "500\n",
      "510\n",
      "520\n",
      "530\n",
      "540\n",
      "550\n",
      "560\n",
      "570\n",
      "580\n",
      "590\n",
      "600\n",
      "610\n",
      "620\n",
      "630\n",
      "640\n",
      "650\n",
      "660\n",
      "670\n",
      "680\n",
      "690\n",
      "700\n",
      "710\n",
      "720\n",
      "730\n",
      "740\n",
      "750\n",
      "760\n",
      "770\n",
      "780\n",
      "790\n",
      "800\n",
      "810\n",
      "820\n",
      "830\n",
      "840\n",
      "850\n",
      "860\n",
      "870\n",
      "880\n",
      "890\n",
      "900\n",
      "910\n",
      "920\n",
      "930\n",
      "940\n",
      "950\n",
      "960\n",
      "970\n",
      "980\n",
      "990\n",
      "1000\n",
      "1010\n",
      "1020\n",
      "1030\n",
      "1040\n",
      "1050\n",
      "1060\n",
      "1070\n",
      "1080\n",
      "1090\n",
      "1100\n",
      "1110\n",
      "1120\n",
      "1130\n",
      "1140\n",
      "1150\n",
      "1160\n",
      "1170\n",
      "1180\n",
      "1190\n",
      "1200\n",
      "1210\n",
      "1220\n",
      "1230\n",
      "1240\n",
      "1250\n",
      "1260\n",
      "1270\n",
      "1280\n",
      "1290\n",
      "1300\n",
      "1310\n",
      "1320\n",
      "1330\n",
      "1340\n",
      "1350\n",
      "1360\n",
      "1370\n",
      "1380\n",
      "1390\n",
      "1400\n",
      "1410\n",
      "1420\n",
      "1430\n",
      "1440\n",
      "1450\n",
      "1460\n",
      "1470\n",
      "1480\n",
      "1490\n",
      "1500\n",
      "1510\n",
      "1520\n",
      "1530\n",
      "1540\n",
      "1550\n",
      "1560\n",
      "1570\n",
      "1580\n",
      "1590\n",
      "1600\n",
      "1610\n",
      "1620\n",
      "1630\n",
      "1640\n",
      "1650\n",
      "1660\n",
      "1670\n",
      "1680\n",
      "1690\n",
      "1700\n",
      "1710\n",
      "1720\n",
      "1730\n",
      "1740\n",
      "1750\n",
      "1760\n",
      "1770\n",
      "1780\n",
      "1790\n",
      "1800\n",
      "1810\n",
      "1820\n",
      "1830\n",
      "1840\n",
      "1850\n",
      "1860\n",
      "1870\n",
      "1880\n",
      "1890\n",
      "1900\n",
      "1910\n",
      "1920\n",
      "1930\n",
      "1940\n",
      "1950\n",
      "1960\n",
      "1970\n",
      "1980\n",
      "1990\n"
     ]
    }
   ],
   "source": [
    "[X_train, Y_train] = generate_dataset_classification(2000, 20)"
   ]
  },
  {
   "cell_type": "markdown",
   "metadata": {},
   "source": [
    "one-hot encode target column\n",
    "\n",
    "\n",
    "check that target column has been converted"
   ]
  },
  {
   "cell_type": "code",
   "execution_count": 230,
   "metadata": {},
   "outputs": [
    {
     "data": {
      "text/plain": [
       "array([[0., 0., 1.],\n",
       "       [1., 0., 0.],\n",
       "       [0., 1., 0.]], dtype=float32)"
      ]
     },
     "execution_count": 230,
     "metadata": {},
     "output_type": "execute_result"
    }
   ],
   "source": [
    "#one-hot encode target column\n",
    "Y_train = to_categorical(Y_train, num_classes=3)\n",
    "\n",
    "#vcheck that target column has been converted\n",
    "Y_train[:3]"
   ]
  },
  {
   "cell_type": "code",
   "execution_count": 231,
   "metadata": {},
   "outputs": [
    {
     "data": {
      "text/plain": [
       "(2000, 3)"
      ]
     },
     "execution_count": 231,
     "metadata": {},
     "output_type": "execute_result"
    }
   ],
   "source": [
    "Y_train.shape"
   ]
  },
  {
   "cell_type": "code",
   "execution_count": 236,
   "metadata": {},
   "outputs": [
    {
     "name": "stdout",
     "output_type": "stream",
     "text": [
      "Creating data:\n",
      "0\n",
      "10\n",
      "20\n",
      "30\n",
      "40\n",
      "50\n",
      "60\n",
      "70\n",
      "80\n",
      "90\n",
      "100\n",
      "110\n",
      "120\n",
      "130\n",
      "140\n",
      "150\n",
      "160\n",
      "170\n",
      "180\n",
      "190\n",
      "200\n",
      "210\n",
      "220\n",
      "230\n",
      "240\n",
      "250\n",
      "260\n",
      "270\n",
      "280\n",
      "290\n"
     ]
    }
   ],
   "source": [
    "[X_test, Y_test] = generate_dataset_classification(300, 20, True)"
   ]
  },
  {
   "cell_type": "markdown",
   "metadata": {},
   "source": [
    "vcheck that target column has been converted"
   ]
  },
  {
   "cell_type": "code",
   "execution_count": 237,
   "metadata": {},
   "outputs": [
    {
     "data": {
      "text/plain": [
       "array([[0., 0., 1.],\n",
       "       [1., 0., 0.],\n",
       "       [1., 0., 0.]], dtype=float32)"
      ]
     },
     "execution_count": 237,
     "metadata": {},
     "output_type": "execute_result"
    }
   ],
   "source": [
    "Y_test = to_categorical(Y_test)\n",
    "\n",
    "\n",
    "Y_test[:3]"
   ]
  },
  {
   "cell_type": "code",
   "execution_count": 239,
   "metadata": {},
   "outputs": [
    {
     "data": {
      "text/plain": [
       "(2000, 5184)"
      ]
     },
     "execution_count": 239,
     "metadata": {},
     "output_type": "execute_result"
    }
   ],
   "source": [
    "X_train.shape"
   ]
  },
  {
   "cell_type": "code",
   "execution_count": 240,
   "metadata": {},
   "outputs": [
    {
     "data": {
      "text/plain": [
       "(2000, 3)"
      ]
     },
     "execution_count": 240,
     "metadata": {},
     "output_type": "execute_result"
    }
   ],
   "source": [
    "Y_train.shape"
   ]
  },
  {
   "cell_type": "code",
   "execution_count": 190,
   "metadata": {},
   "outputs": [
    {
     "data": {
      "text/plain": [
       "(300, 5184)"
      ]
     },
     "execution_count": 190,
     "metadata": {},
     "output_type": "execute_result"
    }
   ],
   "source": [
    "X_test.shape"
   ]
  },
  {
   "cell_type": "code",
   "execution_count": 238,
   "metadata": {},
   "outputs": [
    {
     "data": {
      "text/plain": [
       "(300, 3)"
      ]
     },
     "execution_count": 238,
     "metadata": {},
     "output_type": "execute_result"
    }
   ],
   "source": [
    "Y_test.shape"
   ]
  },
  {
   "cell_type": "code",
   "execution_count": 71,
   "metadata": {},
   "outputs": [],
   "source": [
    "from keras.utils import to_categorical \n"
   ]
  },
  {
   "cell_type": "markdown",
   "metadata": {},
   "source": [
    "create model\n",
    "\n",
    "\n",
    "get number of columns in training data"
   ]
  },
  {
   "cell_type": "code",
   "execution_count": 232,
   "metadata": {},
   "outputs": [],
   "source": [
    "#create model\n",
    "model_1 = Sequential()\n",
    "\n",
    "#get number of columns in training data\n",
    "n_cols_1 = X_train.shape[1]\n",
    "\n"
   ]
  },
  {
   "cell_type": "code",
   "execution_count": 233,
   "metadata": {},
   "outputs": [],
   "source": [
    "#add layers to model\n",
    "model_1.add(Dense(3, activation='softmax', input_shape=(n_cols_1,)))\n"
   ]
  },
  {
   "cell_type": "markdown",
   "metadata": {},
   "source": [
    "compile model using accuracy to measure model performance"
   ]
  },
  {
   "cell_type": "code",
   "execution_count": 234,
   "metadata": {},
   "outputs": [],
   "source": [
    "# model_1.compile(optimizer='sgd', loss='categorical_crossentropy', metrics=['accuracy'])\n",
    "model_1.compile(optimizer='adam', loss='categorical_crossentropy', metrics=['accuracy'])"
   ]
  },
  {
   "cell_type": "code",
   "execution_count": 224,
   "metadata": {},
   "outputs": [],
   "source": [
    "from keras.callbacks import EarlyStopping\n",
    "early_stopping_monitor = EarlyStopping(patience=3)"
   ]
  },
  {
   "cell_type": "code",
   "execution_count": 235,
   "metadata": {},
   "outputs": [
    {
     "name": "stdout",
     "output_type": "stream",
     "text": [
      "Epoch 1/300\n",
      "2000/2000 [==============================] - 1s 371us/step - loss: 0.9397 - acc: 0.6440\n",
      "Epoch 2/300\n",
      "2000/2000 [==============================] - 0s 134us/step - loss: 0.2206 - acc: 0.9400\n",
      "Epoch 3/300\n",
      "2000/2000 [==============================] - 0s 137us/step - loss: 0.1197 - acc: 0.9935\n",
      "Epoch 4/300\n",
      "2000/2000 [==============================] - 0s 138us/step - loss: 0.0946 - acc: 0.9875\n",
      "Epoch 5/300\n",
      "2000/2000 [==============================] - 0s 140us/step - loss: 0.0563 - acc: 0.9995\n",
      "Epoch 6/300\n",
      "2000/2000 [==============================] - 0s 137us/step - loss: 0.0443 - acc: 1.0000\n",
      "Epoch 7/300\n",
      "2000/2000 [==============================] - 0s 138us/step - loss: 0.0342 - acc: 1.0000\n",
      "Epoch 8/300\n",
      "2000/2000 [==============================] - 0s 175us/step - loss: 0.0293 - acc: 1.0000\n",
      "Epoch 9/300\n",
      "2000/2000 [==============================] - 0s 154us/step - loss: 0.0250 - acc: 0.9995\n",
      "Epoch 10/300\n",
      "2000/2000 [==============================] - 0s 138us/step - loss: 0.0193 - acc: 1.0000\n",
      "Epoch 11/300\n",
      "2000/2000 [==============================] - 0s 135us/step - loss: 0.0167 - acc: 1.0000\n",
      "Epoch 12/300\n",
      "2000/2000 [==============================] - 0s 142us/step - loss: 0.0145 - acc: 1.0000\n",
      "Epoch 13/300\n",
      "2000/2000 [==============================] - 0s 137us/step - loss: 0.0132 - acc: 1.0000\n",
      "Epoch 14/300\n",
      "2000/2000 [==============================] - 0s 137us/step - loss: 0.0120 - acc: 1.0000\n",
      "Epoch 15/300\n",
      "2000/2000 [==============================] - 0s 142us/step - loss: 0.0101 - acc: 1.0000\n",
      "Epoch 16/300\n",
      "2000/2000 [==============================] - 0s 173us/step - loss: 0.0087 - acc: 1.0000\n",
      "Epoch 17/300\n",
      "2000/2000 [==============================] - 0s 146us/step - loss: 0.0083 - acc: 1.0000\n",
      "Epoch 18/300\n",
      "2000/2000 [==============================] - 0s 144us/step - loss: 0.0072 - acc: 1.0000\n",
      "Epoch 19/300\n",
      "2000/2000 [==============================] - 0s 183us/step - loss: 0.0068 - acc: 1.0000\n",
      "Epoch 20/300\n",
      "2000/2000 [==============================] - 0s 136us/step - loss: 0.0060 - acc: 1.0000\n",
      "Epoch 21/300\n",
      "2000/2000 [==============================] - 0s 136us/step - loss: 0.0058 - acc: 1.0000\n",
      "Epoch 22/300\n",
      "2000/2000 [==============================] - 0s 138us/step - loss: 0.0052 - acc: 1.0000\n",
      "Epoch 23/300\n",
      "2000/2000 [==============================] - 0s 140us/step - loss: 0.0049 - acc: 1.0000\n",
      "Epoch 24/300\n",
      "2000/2000 [==============================] - 0s 138us/step - loss: 0.0044 - acc: 1.0000\n",
      "Epoch 25/300\n",
      "2000/2000 [==============================] - 0s 140us/step - loss: 0.0041 - acc: 1.0000\n",
      "Epoch 26/300\n",
      "2000/2000 [==============================] - 0s 155us/step - loss: 0.0039 - acc: 1.0000\n",
      "Epoch 27/300\n",
      "2000/2000 [==============================] - 0s 167us/step - loss: 0.0038 - acc: 1.0000\n",
      "Epoch 28/300\n",
      "2000/2000 [==============================] - 0s 142us/step - loss: 0.0035 - acc: 1.0000\n",
      "Epoch 29/300\n",
      "2000/2000 [==============================] - 0s 147us/step - loss: 0.0032 - acc: 1.0000\n",
      "Epoch 30/300\n",
      "2000/2000 [==============================] - 0s 153us/step - loss: 0.0029 - acc: 1.0000\n",
      "Epoch 31/300\n",
      "2000/2000 [==============================] - 0s 154us/step - loss: 0.0028 - acc: 1.0000\n",
      "Epoch 32/300\n",
      "2000/2000 [==============================] - 0s 160us/step - loss: 0.0027 - acc: 1.0000\n",
      "Epoch 33/300\n",
      "2000/2000 [==============================] - 0s 192us/step - loss: 0.0024 - acc: 1.0000\n",
      "Epoch 34/300\n",
      "2000/2000 [==============================] - 0s 174us/step - loss: 0.0023 - acc: 1.0000\n",
      "Epoch 35/300\n",
      "2000/2000 [==============================] - 0s 170us/step - loss: 0.0022 - acc: 1.0000\n",
      "Epoch 36/300\n",
      "2000/2000 [==============================] - 0s 156us/step - loss: 0.0021 - acc: 1.0000\n",
      "Epoch 37/300\n",
      "2000/2000 [==============================] - 0s 146us/step - loss: 0.0020 - acc: 1.0000\n",
      "Epoch 38/300\n",
      "2000/2000 [==============================] - 0s 164us/step - loss: 0.0019 - acc: 1.0000\n",
      "Epoch 39/300\n",
      "2000/2000 [==============================] - 0s 149us/step - loss: 0.0018 - acc: 1.0000\n",
      "Epoch 40/300\n",
      "2000/2000 [==============================] - 0s 144us/step - loss: 0.0017 - acc: 1.0000\n",
      "Epoch 41/300\n",
      "2000/2000 [==============================] - 0s 148us/step - loss: 0.0016 - acc: 1.0000\n",
      "Epoch 42/300\n",
      "2000/2000 [==============================] - 0s 135us/step - loss: 0.0015 - acc: 1.0000\n",
      "Epoch 43/300\n",
      "2000/2000 [==============================] - 0s 137us/step - loss: 0.0015 - acc: 1.0000\n",
      "Epoch 44/300\n",
      "2000/2000 [==============================] - 0s 138us/step - loss: 0.0014 - acc: 1.0000\n",
      "Epoch 45/300\n",
      "2000/2000 [==============================] - 0s 138us/step - loss: 0.0013 - acc: 1.0000\n",
      "Epoch 46/300\n",
      "2000/2000 [==============================] - 0s 137us/step - loss: 0.0013 - acc: 1.0000\n",
      "Epoch 47/300\n",
      "2000/2000 [==============================] - 0s 143us/step - loss: 0.0012 - acc: 1.0000\n",
      "Epoch 48/300\n",
      "2000/2000 [==============================] - 0s 145us/step - loss: 0.0012 - acc: 1.0000\n",
      "Epoch 49/300\n",
      "2000/2000 [==============================] - 0s 136us/step - loss: 0.0011 - acc: 1.0000\n",
      "Epoch 50/300\n",
      "2000/2000 [==============================] - 0s 139us/step - loss: 0.0011 - acc: 1.0000\n",
      "Epoch 51/300\n",
      "2000/2000 [==============================] - 0s 140us/step - loss: 0.0010 - acc: 1.0000\n",
      "Epoch 52/300\n",
      "2000/2000 [==============================] - 0s 141us/step - loss: 9.6616e-04 - acc: 1.0000\n",
      "Epoch 53/300\n",
      "2000/2000 [==============================] - 0s 138us/step - loss: 9.2630e-04 - acc: 1.0000\n",
      "Epoch 54/300\n",
      "2000/2000 [==============================] - 0s 144us/step - loss: 8.8344e-04 - acc: 1.0000\n",
      "Epoch 55/300\n",
      "2000/2000 [==============================] - 0s 132us/step - loss: 8.6086e-04 - acc: 1.0000\n",
      "Epoch 56/300\n",
      "2000/2000 [==============================] - 0s 136us/step - loss: 8.1655e-04 - acc: 1.0000\n",
      "Epoch 57/300\n",
      "2000/2000 [==============================] - 0s 140us/step - loss: 7.8520e-04 - acc: 1.0000\n",
      "Epoch 58/300\n",
      "2000/2000 [==============================] - 0s 157us/step - loss: 7.5354e-04 - acc: 1.0000\n",
      "Epoch 59/300\n",
      "2000/2000 [==============================] - 0s 171us/step - loss: 7.2628e-04 - acc: 1.0000\n",
      "Epoch 60/300\n",
      "2000/2000 [==============================] - 0s 161us/step - loss: 6.9611e-04 - acc: 1.0000\n",
      "Epoch 61/300\n",
      "2000/2000 [==============================] - 0s 145us/step - loss: 6.7479e-04 - acc: 1.0000\n",
      "Epoch 62/300\n",
      "2000/2000 [==============================] - 0s 143us/step - loss: 6.4187e-04 - acc: 1.0000\n",
      "Epoch 63/300\n",
      "2000/2000 [==============================] - 0s 140us/step - loss: 6.1541e-04 - acc: 1.0000\n",
      "Epoch 64/300\n",
      "2000/2000 [==============================] - 0s 140us/step - loss: 6.1547e-04 - acc: 1.0000\n",
      "Epoch 65/300\n",
      "2000/2000 [==============================] - 0s 135us/step - loss: 5.7414e-04 - acc: 1.0000\n",
      "Epoch 66/300\n",
      "2000/2000 [==============================] - 0s 137us/step - loss: 5.4417e-04 - acc: 1.0000\n",
      "Epoch 67/300\n",
      "2000/2000 [==============================] - 0s 140us/step - loss: 5.3302e-04 - acc: 1.0000 0s - loss: 5.3629e-04 - acc: 1.0\n",
      "Epoch 68/300\n",
      "2000/2000 [==============================] - 0s 138us/step - loss: 5.1746e-04 - acc: 1.0000\n",
      "Epoch 69/300\n",
      "2000/2000 [==============================] - 0s 137us/step - loss: 4.8827e-04 - acc: 1.0000\n",
      "Epoch 70/300\n",
      "2000/2000 [==============================] - 0s 138us/step - loss: 4.7355e-04 - acc: 1.0000\n",
      "Epoch 71/300\n",
      "2000/2000 [==============================] - 0s 136us/step - loss: 4.5912e-04 - acc: 1.0000\n",
      "Epoch 72/300\n",
      "2000/2000 [==============================] - 0s 161us/step - loss: 4.3886e-04 - acc: 1.0000\n",
      "Epoch 73/300\n",
      "2000/2000 [==============================] - 0s 170us/step - loss: 4.2114e-04 - acc: 1.0000\n",
      "Epoch 74/300\n",
      "2000/2000 [==============================] - 0s 141us/step - loss: 4.0225e-04 - acc: 1.0000\n",
      "Epoch 75/300\n",
      "2000/2000 [==============================] - 0s 142us/step - loss: 3.9439e-04 - acc: 1.0000\n",
      "Epoch 76/300\n",
      "2000/2000 [==============================] - 0s 155us/step - loss: 3.7862e-04 - acc: 1.0000\n",
      "Epoch 77/300\n",
      "2000/2000 [==============================] - 0s 145us/step - loss: 3.6570e-04 - acc: 1.0000\n",
      "Epoch 78/300\n",
      "2000/2000 [==============================] - 0s 137us/step - loss: 3.5415e-04 - acc: 1.0000\n",
      "Epoch 79/300\n",
      "2000/2000 [==============================] - 0s 145us/step - loss: 3.4384e-04 - acc: 1.0000\n",
      "Epoch 80/300\n",
      "2000/2000 [==============================] - 0s 136us/step - loss: 3.2815e-04 - acc: 1.0000\n",
      "Epoch 81/300\n",
      "2000/2000 [==============================] - 0s 134us/step - loss: 3.1579e-04 - acc: 1.0000\n",
      "Epoch 82/300\n",
      "2000/2000 [==============================] - 0s 139us/step - loss: 3.0487e-04 - acc: 1.0000\n",
      "Epoch 83/300\n",
      "2000/2000 [==============================] - 0s 142us/step - loss: 3.0017e-04 - acc: 1.0000\n",
      "Epoch 84/300\n",
      "2000/2000 [==============================] - 0s 157us/step - loss: 2.8450e-04 - acc: 1.0000\n",
      "Epoch 85/300\n",
      "2000/2000 [==============================] - 0s 150us/step - loss: 2.7463e-04 - acc: 1.0000\n",
      "Epoch 86/300\n",
      "2000/2000 [==============================] - 0s 171us/step - loss: 2.6618e-04 - acc: 1.0000\n",
      "Epoch 87/300\n",
      "2000/2000 [==============================] - 0s 185us/step - loss: 2.5950e-04 - acc: 1.0000\n",
      "Epoch 88/300\n",
      "2000/2000 [==============================] - 0s 193us/step - loss: 2.4859e-04 - acc: 1.0000\n",
      "Epoch 89/300\n",
      "2000/2000 [==============================] - 0s 173us/step - loss: 2.4630e-04 - acc: 1.0000\n",
      "Epoch 90/300\n",
      "2000/2000 [==============================] - 0s 139us/step - loss: 2.3059e-04 - acc: 1.0000\n",
      "Epoch 91/300\n",
      "2000/2000 [==============================] - 0s 166us/step - loss: 2.2304e-04 - acc: 1.0000\n",
      "Epoch 92/300\n",
      "2000/2000 [==============================] - 0s 145us/step - loss: 2.1911e-04 - acc: 1.0000\n",
      "Epoch 93/300\n",
      "2000/2000 [==============================] - 0s 140us/step - loss: 2.1141e-04 - acc: 1.0000\n",
      "Epoch 94/300\n",
      "2000/2000 [==============================] - 0s 164us/step - loss: 2.0385e-04 - acc: 1.0000\n",
      "Epoch 95/300\n",
      "2000/2000 [==============================] - 0s 154us/step - loss: 1.9452e-04 - acc: 1.0000\n",
      "Epoch 96/300\n",
      "2000/2000 [==============================] - 0s 165us/step - loss: 1.8916e-04 - acc: 1.0000\n",
      "Epoch 97/300\n",
      "2000/2000 [==============================] - 0s 162us/step - loss: 1.8370e-04 - acc: 1.0000\n",
      "Epoch 98/300\n",
      "2000/2000 [==============================] - 0s 164us/step - loss: 1.8273e-04 - acc: 1.0000\n",
      "Epoch 99/300\n",
      "2000/2000 [==============================] - 0s 170us/step - loss: 1.7240e-04 - acc: 1.0000\n",
      "Epoch 100/300\n",
      "2000/2000 [==============================] - 0s 170us/step - loss: 1.6521e-04 - acc: 1.0000\n",
      "Epoch 101/300\n",
      "2000/2000 [==============================] - 0s 168us/step - loss: 1.6045e-04 - acc: 1.0000\n",
      "Epoch 102/300\n",
      "2000/2000 [==============================] - 0s 143us/step - loss: 1.5413e-04 - acc: 1.0000\n",
      "Epoch 103/300\n",
      "2000/2000 [==============================] - 0s 162us/step - loss: 1.4878e-04 - acc: 1.0000\n",
      "Epoch 104/300\n",
      "2000/2000 [==============================] - 0s 138us/step - loss: 1.4712e-04 - acc: 1.0000\n",
      "Epoch 105/300\n",
      "2000/2000 [==============================] - 0s 171us/step - loss: 1.4000e-04 - acc: 1.0000\n",
      "Epoch 106/300\n",
      "2000/2000 [==============================] - 0s 166us/step - loss: 1.3570e-04 - acc: 1.0000\n",
      "Epoch 107/300\n",
      "2000/2000 [==============================] - 0s 157us/step - loss: 1.3047e-04 - acc: 1.0000\n",
      "Epoch 108/300\n",
      "2000/2000 [==============================] - 0s 141us/step - loss: 1.2672e-04 - acc: 1.0000\n",
      "Epoch 109/300\n",
      "2000/2000 [==============================] - 0s 142us/step - loss: 1.2324e-04 - acc: 1.0000\n",
      "Epoch 110/300\n",
      "2000/2000 [==============================] - 0s 148us/step - loss: 1.2156e-04 - acc: 1.0000\n",
      "Epoch 111/300\n",
      "2000/2000 [==============================] - 0s 160us/step - loss: 1.1500e-04 - acc: 1.0000\n",
      "Epoch 112/300\n",
      "2000/2000 [==============================] - 0s 156us/step - loss: 1.1139e-04 - acc: 1.0000\n",
      "Epoch 113/300\n",
      "2000/2000 [==============================] - 0s 157us/step - loss: 1.1054e-04 - acc: 1.0000\n",
      "Epoch 114/300\n",
      "2000/2000 [==============================] - 0s 160us/step - loss: 1.0387e-04 - acc: 1.0000\n",
      "Epoch 115/300\n",
      "2000/2000 [==============================] - 0s 149us/step - loss: 1.0009e-04 - acc: 1.0000\n",
      "Epoch 116/300\n",
      "2000/2000 [==============================] - 0s 143us/step - loss: 9.7715e-05 - acc: 1.0000\n",
      "Epoch 117/300\n",
      "2000/2000 [==============================] - 0s 139us/step - loss: 9.3172e-05 - acc: 1.0000\n",
      "Epoch 118/300\n",
      "2000/2000 [==============================] - 0s 136us/step - loss: 9.1376e-05 - acc: 1.0000\n",
      "Epoch 119/300\n",
      "2000/2000 [==============================] - 0s 136us/step - loss: 8.8497e-05 - acc: 1.0000\n",
      "Epoch 120/300\n",
      "2000/2000 [==============================] - 0s 135us/step - loss: 8.6902e-05 - acc: 1.0000\n",
      "Epoch 121/300\n",
      "2000/2000 [==============================] - 0s 155us/step - loss: 8.3317e-05 - acc: 1.0000\n",
      "Epoch 122/300\n",
      "2000/2000 [==============================] - 0s 165us/step - loss: 8.0422e-05 - acc: 1.0000\n",
      "Epoch 123/300\n",
      "2000/2000 [==============================] - 0s 161us/step - loss: 7.7653e-05 - acc: 1.0000\n",
      "Epoch 124/300\n",
      "2000/2000 [==============================] - 0s 168us/step - loss: 7.6036e-05 - acc: 1.0000\n",
      "Epoch 125/300\n",
      "2000/2000 [==============================] - 0s 157us/step - loss: 7.2354e-05 - acc: 1.0000\n",
      "Epoch 126/300\n",
      "2000/2000 [==============================] - 0s 167us/step - loss: 7.0578e-05 - acc: 1.0000\n",
      "Epoch 127/300\n",
      "2000/2000 [==============================] - 0s 150us/step - loss: 6.9535e-05 - acc: 1.0000\n",
      "Epoch 128/300\n",
      "2000/2000 [==============================] - 0s 167us/step - loss: 6.5880e-05 - acc: 1.0000\n",
      "Epoch 129/300\n",
      "2000/2000 [==============================] - 0s 162us/step - loss: 6.4793e-05 - acc: 1.0000\n",
      "Epoch 130/300\n",
      "2000/2000 [==============================] - 0s 144us/step - loss: 6.1641e-05 - acc: 1.0000\n",
      "Epoch 131/300\n",
      "2000/2000 [==============================] - 0s 150us/step - loss: 6.1087e-05 - acc: 1.0000\n",
      "Epoch 132/300\n",
      "2000/2000 [==============================] - 0s 161us/step - loss: 5.8094e-05 - acc: 1.0000\n",
      "Epoch 133/300\n",
      "2000/2000 [==============================] - 0s 152us/step - loss: 5.6085e-05 - acc: 1.0000\n",
      "Epoch 134/300\n",
      "2000/2000 [==============================] - 0s 166us/step - loss: 5.4072e-05 - acc: 1.0000\n",
      "Epoch 135/300\n",
      "2000/2000 [==============================] - 0s 165us/step - loss: 5.3457e-05 - acc: 1.0000\n",
      "Epoch 136/300\n",
      "2000/2000 [==============================] - 0s 174us/step - loss: 5.1253e-05 - acc: 1.0000\n",
      "Epoch 137/300\n",
      "2000/2000 [==============================] - 0s 149us/step - loss: 5.2330e-05 - acc: 1.0000\n",
      "Epoch 138/300\n",
      "2000/2000 [==============================] - 0s 161us/step - loss: 4.9676e-05 - acc: 1.0000\n",
      "Epoch 139/300\n",
      "2000/2000 [==============================] - 0s 183us/step - loss: 4.6398e-05 - acc: 1.0000\n",
      "Epoch 140/300\n",
      "2000/2000 [==============================] - 0s 171us/step - loss: 4.5713e-05 - acc: 1.0000\n",
      "Epoch 141/300\n",
      "2000/2000 [==============================] - 0s 140us/step - loss: 4.3400e-05 - acc: 1.0000\n",
      "Epoch 142/300\n",
      "2000/2000 [==============================] - 0s 142us/step - loss: 4.1913e-05 - acc: 1.0000\n",
      "Epoch 143/300\n",
      "2000/2000 [==============================] - 0s 150us/step - loss: 4.0899e-05 - acc: 1.0000\n",
      "Epoch 144/300\n",
      "2000/2000 [==============================] - 0s 140us/step - loss: 4.0239e-05 - acc: 1.0000\n",
      "Epoch 145/300\n",
      "2000/2000 [==============================] - 0s 141us/step - loss: 3.8346e-05 - acc: 1.0000\n",
      "Epoch 146/300\n",
      "2000/2000 [==============================] - 0s 152us/step - loss: 3.6744e-05 - acc: 1.0000\n",
      "Epoch 147/300\n",
      "2000/2000 [==============================] - 0s 145us/step - loss: 3.5598e-05 - acc: 1.0000\n",
      "Epoch 148/300\n",
      "2000/2000 [==============================] - 0s 141us/step - loss: 3.5784e-05 - acc: 1.0000\n",
      "Epoch 149/300\n",
      "2000/2000 [==============================] - 0s 160us/step - loss: 3.3363e-05 - acc: 1.0000\n",
      "Epoch 150/300\n",
      "2000/2000 [==============================] - 0s 165us/step - loss: 3.2970e-05 - acc: 1.0000\n",
      "Epoch 151/300\n",
      "2000/2000 [==============================] - 0s 148us/step - loss: 3.1884e-05 - acc: 1.0000\n",
      "Epoch 152/300\n",
      "2000/2000 [==============================] - 0s 144us/step - loss: 3.0230e-05 - acc: 1.0000\n",
      "Epoch 153/300\n",
      "2000/2000 [==============================] - 0s 142us/step - loss: 3.0320e-05 - acc: 1.0000\n",
      "Epoch 154/300\n",
      "2000/2000 [==============================] - 0s 147us/step - loss: 2.8643e-05 - acc: 1.0000\n",
      "Epoch 155/300\n",
      "2000/2000 [==============================] - 0s 166us/step - loss: 2.7849e-05 - acc: 1.0000\n",
      "Epoch 156/300\n",
      "2000/2000 [==============================] - 0s 157us/step - loss: 2.6946e-05 - acc: 1.0000\n",
      "Epoch 157/300\n"
     ]
    },
    {
     "name": "stdout",
     "output_type": "stream",
     "text": [
      "2000/2000 [==============================] - 0s 167us/step - loss: 2.6199e-05 - acc: 1.0000\n",
      "Epoch 158/300\n",
      "2000/2000 [==============================] - 0s 181us/step - loss: 2.5359e-05 - acc: 1.0000 0s - loss: 2.5861e-05 - acc: \n",
      "Epoch 159/300\n",
      "2000/2000 [==============================] - 0s 156us/step - loss: 2.4544e-05 - acc: 1.0000\n",
      "Epoch 160/300\n",
      "2000/2000 [==============================] - 0s 140us/step - loss: 2.4083e-05 - acc: 1.0000\n",
      "Epoch 161/300\n",
      "2000/2000 [==============================] - 0s 143us/step - loss: 2.2989e-05 - acc: 1.0000\n",
      "Epoch 162/300\n",
      "2000/2000 [==============================] - 0s 144us/step - loss: 2.2166e-05 - acc: 1.0000\n",
      "Epoch 163/300\n",
      "2000/2000 [==============================] - 0s 138us/step - loss: 2.1666e-05 - acc: 1.0000\n",
      "Epoch 164/300\n",
      "2000/2000 [==============================] - 0s 131us/step - loss: 2.1095e-05 - acc: 1.0000\n",
      "Epoch 165/300\n",
      "2000/2000 [==============================] - 0s 130us/step - loss: 2.0379e-05 - acc: 1.0000\n",
      "Epoch 166/300\n",
      "2000/2000 [==============================] - 0s 135us/step - loss: 1.9818e-05 - acc: 1.0000\n",
      "Epoch 167/300\n",
      "2000/2000 [==============================] - 0s 141us/step - loss: 1.9057e-05 - acc: 1.0000\n",
      "Epoch 168/300\n",
      "2000/2000 [==============================] - 0s 174us/step - loss: 1.8452e-05 - acc: 1.0000\n",
      "Epoch 169/300\n",
      "2000/2000 [==============================] - 0s 150us/step - loss: 1.8129e-05 - acc: 1.0000\n",
      "Epoch 170/300\n",
      "2000/2000 [==============================] - 0s 167us/step - loss: 1.7228e-05 - acc: 1.0000\n",
      "Epoch 171/300\n",
      "2000/2000 [==============================] - 0s 160us/step - loss: 1.6849e-05 - acc: 1.0000\n",
      "Epoch 172/300\n",
      "2000/2000 [==============================] - 0s 142us/step - loss: 1.6360e-05 - acc: 1.0000\n",
      "Epoch 173/300\n",
      "2000/2000 [==============================] - 0s 138us/step - loss: 1.5860e-05 - acc: 1.0000\n",
      "Epoch 174/300\n",
      "2000/2000 [==============================] - 0s 144us/step - loss: 1.6007e-05 - acc: 1.0000\n",
      "Epoch 175/300\n",
      "2000/2000 [==============================] - 0s 131us/step - loss: 1.4658e-05 - acc: 1.0000\n",
      "Epoch 176/300\n",
      "2000/2000 [==============================] - 0s 137us/step - loss: 1.4370e-05 - acc: 1.0000\n",
      "Epoch 177/300\n",
      "2000/2000 [==============================] - 0s 136us/step - loss: 1.3884e-05 - acc: 1.0000\n",
      "Epoch 178/300\n",
      "2000/2000 [==============================] - 0s 139us/step - loss: 1.3549e-05 - acc: 1.0000\n",
      "Epoch 179/300\n",
      "2000/2000 [==============================] - 0s 140us/step - loss: 1.3042e-05 - acc: 1.0000\n",
      "Epoch 180/300\n",
      "2000/2000 [==============================] - 0s 137us/step - loss: 1.2559e-05 - acc: 1.0000\n",
      "Epoch 181/300\n",
      "2000/2000 [==============================] - 0s 136us/step - loss: 1.2329e-05 - acc: 1.0000\n",
      "Epoch 182/300\n",
      "2000/2000 [==============================] - 0s 137us/step - loss: 1.1789e-05 - acc: 1.0000\n",
      "Epoch 183/300\n",
      "2000/2000 [==============================] - 0s 145us/step - loss: 1.1531e-05 - acc: 1.0000\n",
      "Epoch 184/300\n",
      "2000/2000 [==============================] - 0s 147us/step - loss: 1.1153e-05 - acc: 1.0000\n",
      "Epoch 185/300\n",
      "2000/2000 [==============================] - 0s 131us/step - loss: 1.0881e-05 - acc: 1.0000\n",
      "Epoch 186/300\n",
      "2000/2000 [==============================] - 0s 140us/step - loss: 1.0456e-05 - acc: 1.0000\n",
      "Epoch 187/300\n",
      "2000/2000 [==============================] - 0s 139us/step - loss: 1.0037e-05 - acc: 1.0000\n",
      "Epoch 188/300\n",
      "2000/2000 [==============================] - 0s 154us/step - loss: 9.8545e-06 - acc: 1.0000\n",
      "Epoch 189/300\n",
      "2000/2000 [==============================] - 0s 155us/step - loss: 9.7380e-06 - acc: 1.0000\n",
      "Epoch 190/300\n",
      "2000/2000 [==============================] - 0s 175us/step - loss: 9.3512e-06 - acc: 1.0000\n",
      "Epoch 191/300\n",
      "2000/2000 [==============================] - 0s 185us/step - loss: 8.9176e-06 - acc: 1.0000\n",
      "Epoch 192/300\n",
      "2000/2000 [==============================] - 0s 154us/step - loss: 8.6670e-06 - acc: 1.0000\n",
      "Epoch 193/300\n",
      "2000/2000 [==============================] - 0s 163us/step - loss: 8.4254e-06 - acc: 1.0000\n",
      "Epoch 194/300\n",
      "2000/2000 [==============================] - 0s 142us/step - loss: 8.0733e-06 - acc: 1.0000\n",
      "Epoch 195/300\n",
      "2000/2000 [==============================] - 0s 144us/step - loss: 7.9179e-06 - acc: 1.0000\n",
      "Epoch 196/300\n",
      "2000/2000 [==============================] - 0s 147us/step - loss: 7.7317e-06 - acc: 1.0000\n",
      "Epoch 197/300\n",
      "2000/2000 [==============================] - 0s 144us/step - loss: 7.3982e-06 - acc: 1.0000\n",
      "Epoch 198/300\n",
      "2000/2000 [==============================] - 0s 140us/step - loss: 7.1565e-06 - acc: 1.0000\n",
      "Epoch 199/300\n",
      "2000/2000 [==============================] - 0s 143us/step - loss: 7.1518e-06 - acc: 1.0000\n",
      "Epoch 200/300\n",
      "2000/2000 [==============================] - 0s 141us/step - loss: 6.7713e-06 - acc: 1.0000\n",
      "Epoch 201/300\n",
      "2000/2000 [==============================] - 0s 144us/step - loss: 6.4713e-06 - acc: 1.0000\n",
      "Epoch 202/300\n",
      "2000/2000 [==============================] - 0s 143us/step - loss: 6.3197e-06 - acc: 1.0000\n",
      "Epoch 203/300\n",
      "2000/2000 [==============================] - 0s 137us/step - loss: 6.2599e-06 - acc: 1.0000\n",
      "Epoch 204/300\n",
      "2000/2000 [==============================] - 0s 141us/step - loss: 5.9483e-06 - acc: 1.0000\n",
      "Epoch 205/300\n",
      "2000/2000 [==============================] - 0s 149us/step - loss: 5.7583e-06 - acc: 1.0000\n",
      "Epoch 206/300\n",
      "2000/2000 [==============================] - 0s 139us/step - loss: 5.5235e-06 - acc: 1.0000\n",
      "Epoch 207/300\n",
      "2000/2000 [==============================] - 0s 140us/step - loss: 5.3694e-06 - acc: 1.0000\n",
      "Epoch 208/300\n",
      "2000/2000 [==============================] - 0s 136us/step - loss: 5.2177e-06 - acc: 1.0000\n",
      "Epoch 209/300\n",
      "2000/2000 [==============================] - 0s 137us/step - loss: 5.3061e-06 - acc: 1.0000\n",
      "Epoch 210/300\n",
      "2000/2000 [==============================] - 0s 135us/step - loss: 4.9457e-06 - acc: 1.0000\n",
      "Epoch 211/300\n",
      "2000/2000 [==============================] - 0s 147us/step - loss: 4.7958e-06 - acc: 1.0000\n",
      "Epoch 212/300\n",
      "2000/2000 [==============================] - 0s 147us/step - loss: 4.6222e-06 - acc: 1.0000\n",
      "Epoch 213/300\n",
      "2000/2000 [==============================] - 0s 142us/step - loss: 4.4899e-06 - acc: 1.0000\n",
      "Epoch 214/300\n",
      "2000/2000 [==============================] - 0s 134us/step - loss: 4.3626e-06 - acc: 1.0000 0s - loss: 4.4342e-06 - acc: 1.\n",
      "Epoch 215/300\n",
      "2000/2000 [==============================] - 0s 155us/step - loss: 4.2080e-06 - acc: 1.0000\n",
      "Epoch 216/300\n",
      "2000/2000 [==============================] - 0s 156us/step - loss: 4.1358e-06 - acc: 1.0000\n",
      "Epoch 217/300\n",
      "2000/2000 [==============================] - 0s 159us/step - loss: 4.0472e-06 - acc: 1.0000\n",
      "Epoch 218/300\n",
      "2000/2000 [==============================] - 0s 152us/step - loss: 4.0273e-06 - acc: 1.0000\n",
      "Epoch 219/300\n",
      "2000/2000 [==============================] - 0s 147us/step - loss: 3.7616e-06 - acc: 1.0000\n",
      "Epoch 220/300\n",
      "2000/2000 [==============================] - 0s 155us/step - loss: 3.6677e-06 - acc: 1.0000\n",
      "Epoch 221/300\n",
      "2000/2000 [==============================] - 0s 154us/step - loss: 3.4325e-06 - acc: 1.0000\n",
      "Epoch 222/300\n",
      "2000/2000 [==============================] - 0s 157us/step - loss: 3.3454e-06 - acc: 1.0000\n",
      "Epoch 223/300\n",
      "2000/2000 [==============================] - 0s 165us/step - loss: 3.2403e-06 - acc: 1.0000\n",
      "Epoch 224/300\n",
      "2000/2000 [==============================] - 0s 147us/step - loss: 3.1570e-06 - acc: 1.0000\n",
      "Epoch 225/300\n",
      "2000/2000 [==============================] - 0s 151us/step - loss: 3.0331e-06 - acc: 1.0000\n",
      "Epoch 226/300\n",
      "2000/2000 [==============================] - 0s 142us/step - loss: 2.9951e-06 - acc: 1.0000\n",
      "Epoch 227/300\n",
      "2000/2000 [==============================] - 0s 164us/step - loss: 2.9313e-06 - acc: 1.0000\n",
      "Epoch 228/300\n",
      "2000/2000 [==============================] - 0s 178us/step - loss: 2.7981e-06 - acc: 1.0000\n",
      "Epoch 229/300\n",
      "2000/2000 [==============================] - 0s 160us/step - loss: 2.6855e-06 - acc: 1.0000\n",
      "Epoch 230/300\n",
      "2000/2000 [==============================] - 0s 145us/step - loss: 2.5984e-06 - acc: 1.0000\n",
      "Epoch 231/300\n",
      "2000/2000 [==============================] - 0s 166us/step - loss: 2.5862e-06 - acc: 1.0000\n",
      "Epoch 232/300\n",
      "2000/2000 [==============================] - 0s 152us/step - loss: 2.4538e-06 - acc: 1.0000\n",
      "Epoch 233/300\n",
      "2000/2000 [==============================] - 0s 141us/step - loss: 2.3988e-06 - acc: 1.0000\n",
      "Epoch 234/300\n",
      "2000/2000 [==============================] - 0s 173us/step - loss: 2.2987e-06 - acc: 1.0000\n",
      "Epoch 235/300\n",
      "2000/2000 [==============================] - 0s 191us/step - loss: 2.2242e-06 - acc: 1.0000\n",
      "Epoch 236/300\n",
      "2000/2000 [==============================] - 0s 181us/step - loss: 2.1793e-06 - acc: 1.0000\n",
      "Epoch 237/300\n",
      "2000/2000 [==============================] - 0s 177us/step - loss: 2.0763e-06 - acc: 1.0000\n",
      "Epoch 238/300\n",
      "2000/2000 [==============================] - 0s 144us/step - loss: 2.0472e-06 - acc: 1.0000\n",
      "Epoch 239/300\n",
      "2000/2000 [==============================] - 0s 137us/step - loss: 1.9555e-06 - acc: 1.0000\n",
      "Epoch 240/300\n",
      "2000/2000 [==============================] - 0s 149us/step - loss: 1.9026e-06 - acc: 1.0000\n",
      "Epoch 241/300\n",
      "2000/2000 [==============================] - 0s 181us/step - loss: 1.8526e-06 - acc: 1.0000\n",
      "Epoch 242/300\n",
      "2000/2000 [==============================] - 0s 154us/step - loss: 1.8116e-06 - acc: 1.0000\n",
      "Epoch 243/300\n",
      "2000/2000 [==============================] - 0s 188us/step - loss: 1.7518e-06 - acc: 1.0000\n",
      "Epoch 244/300\n",
      "2000/2000 [==============================] - 0s 187us/step - loss: 1.6823e-06 - acc: 1.0000\n",
      "Epoch 245/300\n",
      "2000/2000 [==============================] - 0s 196us/step - loss: 1.5969e-06 - acc: 1.0000\n",
      "Epoch 246/300\n",
      "2000/2000 [==============================] - 0s 154us/step - loss: 1.6705e-06 - acc: 1.0000\n",
      "Epoch 247/300\n",
      "2000/2000 [==============================] - 0s 142us/step - loss: 1.5200e-06 - acc: 1.0000\n",
      "Epoch 248/300\n",
      "2000/2000 [==============================] - 0s 148us/step - loss: 1.4748e-06 - acc: 1.0000\n",
      "Epoch 249/300\n",
      "2000/2000 [==============================] - 0s 161us/step - loss: 1.4588e-06 - acc: 1.0000\n",
      "Epoch 250/300\n",
      "2000/2000 [==============================] - 0s 180us/step - loss: 1.4205e-06 - acc: 1.0000\n",
      "Epoch 251/300\n",
      "2000/2000 [==============================] - 0s 168us/step - loss: 1.3361e-06 - acc: 1.0000\n",
      "Epoch 252/300\n",
      "2000/2000 [==============================] - 0s 152us/step - loss: 1.3057e-06 - acc: 1.0000\n",
      "Epoch 253/300\n",
      "2000/2000 [==============================] - 0s 139us/step - loss: 1.2738e-06 - acc: 1.0000\n",
      "Epoch 254/300\n",
      "2000/2000 [==============================] - 0s 150us/step - loss: 1.2188e-06 - acc: 1.0000\n",
      "Epoch 255/300\n",
      "2000/2000 [==============================] - 0s 142us/step - loss: 1.2059e-06 - acc: 1.0000\n",
      "Epoch 256/300\n",
      "2000/2000 [==============================] - 0s 136us/step - loss: 1.1602e-06 - acc: 1.0000\n",
      "Epoch 257/300\n",
      "2000/2000 [==============================] - 0s 153us/step - loss: 1.1222e-06 - acc: 1.0000\n",
      "Epoch 258/300\n",
      "2000/2000 [==============================] - 0s 176us/step - loss: 1.1255e-06 - acc: 1.0000\n",
      "Epoch 259/300\n",
      "2000/2000 [==============================] - 0s 149us/step - loss: 1.0574e-06 - acc: 1.0000\n",
      "Epoch 260/300\n",
      "2000/2000 [==============================] - 0s 137us/step - loss: 1.0298e-06 - acc: 1.0000\n",
      "Epoch 261/300\n",
      "2000/2000 [==============================] - 0s 160us/step - loss: 9.8473e-07 - acc: 1.0000 0s - loss: 9.3179e-07 - acc: 1\n",
      "Epoch 262/300\n",
      "2000/2000 [==============================] - 0s 153us/step - loss: 9.5743e-07 - acc: 1.0000\n",
      "Epoch 263/300\n",
      "2000/2000 [==============================] - 0s 170us/step - loss: 9.4176e-07 - acc: 1.0000\n",
      "Epoch 264/300\n",
      "2000/2000 [==============================] - 0s 160us/step - loss: 9.2331e-07 - acc: 1.0000 0s - loss: 8.7917e-07 - acc: 1.0\n",
      "Epoch 265/300\n",
      "2000/2000 [==============================] - 0s 140us/step - loss: 8.7860e-07 - acc: 1.0000\n",
      "Epoch 266/300\n",
      "2000/2000 [==============================] - 0s 139us/step - loss: 8.4382e-07 - acc: 1.0000\n",
      "Epoch 267/300\n",
      "2000/2000 [==============================] - 0s 135us/step - loss: 8.1384e-07 - acc: 1.0000\n",
      "Epoch 268/300\n",
      "2000/2000 [==============================] - 0s 141us/step - loss: 7.9844e-07 - acc: 1.0000 0s - loss: 7.9998e-07 - acc: 1.0\n",
      "Epoch 269/300\n",
      "2000/2000 [==============================] - 0s 140us/step - loss: 7.6482e-07 - acc: 1.0000\n",
      "Epoch 270/300\n",
      "2000/2000 [==============================] - 0s 136us/step - loss: 7.4142e-07 - acc: 1.0000\n",
      "Epoch 271/300\n",
      "2000/2000 [==============================] - 0s 132us/step - loss: 7.2256e-07 - acc: 1.0000\n",
      "Epoch 272/300\n",
      "2000/2000 [==============================] - 0s 135us/step - loss: 7.0641e-07 - acc: 1.0000\n",
      "Epoch 273/300\n",
      "2000/2000 [==============================] - 0s 134us/step - loss: 6.9553e-07 - acc: 1.0000\n",
      "Epoch 274/300\n",
      "2000/2000 [==============================] - 0s 149us/step - loss: 6.6105e-07 - acc: 1.0000\n",
      "Epoch 275/300\n",
      "2000/2000 [==============================] - 0s 132us/step - loss: 6.4558e-07 - acc: 1.0000\n",
      "Epoch 276/300\n",
      "2000/2000 [==============================] - 0s 130us/step - loss: 6.1783e-07 - acc: 1.0000\n",
      "Epoch 277/300\n",
      "2000/2000 [==============================] - 0s 142us/step - loss: 6.0213e-07 - acc: 1.0000\n",
      "Epoch 278/300\n",
      "2000/2000 [==============================] - 0s 132us/step - loss: 5.9077e-07 - acc: 1.0000\n",
      "Epoch 279/300\n",
      "2000/2000 [==============================] - 0s 133us/step - loss: 5.7742e-07 - acc: 1.0000\n",
      "Epoch 280/300\n",
      "2000/2000 [==============================] - 0s 130us/step - loss: 5.5385e-07 - acc: 1.0000\n",
      "Epoch 281/300\n",
      "2000/2000 [==============================] - 0s 139us/step - loss: 5.4097e-07 - acc: 1.0000\n",
      "Epoch 282/300\n",
      "2000/2000 [==============================] - 0s 134us/step - loss: 5.2020e-07 - acc: 1.0000\n",
      "Epoch 283/300\n",
      "2000/2000 [==============================] - 0s 140us/step - loss: 5.2968e-07 - acc: 1.0000\n",
      "Epoch 284/300\n",
      "2000/2000 [==============================] - 0s 137us/step - loss: 4.8724e-07 - acc: 1.0000\n",
      "Epoch 285/300\n",
      "2000/2000 [==============================] - 0s 136us/step - loss: 4.7997e-07 - acc: 1.0000\n",
      "Epoch 286/300\n",
      "2000/2000 [==============================] - 0s 140us/step - loss: 4.6146e-07 - acc: 1.0000\n",
      "Epoch 287/300\n",
      "2000/2000 [==============================] - 0s 132us/step - loss: 4.5505e-07 - acc: 1.0000\n",
      "Epoch 288/300\n",
      "2000/2000 [==============================] - 0s 130us/step - loss: 4.3470e-07 - acc: 1.0000\n",
      "Epoch 289/300\n",
      "2000/2000 [==============================] - 0s 131us/step - loss: 4.3520e-07 - acc: 1.0000\n",
      "Epoch 290/300\n",
      "2000/2000 [==============================] - 0s 136us/step - loss: 4.1825e-07 - acc: 1.0000\n",
      "Epoch 291/300\n",
      "2000/2000 [==============================] - 0s 133us/step - loss: 4.0430e-07 - acc: 1.0000\n",
      "Epoch 292/300\n",
      "2000/2000 [==============================] - 0s 137us/step - loss: 3.9843e-07 - acc: 1.0000\n",
      "Epoch 293/300\n",
      "2000/2000 [==============================] - 0s 131us/step - loss: 3.8117e-07 - acc: 1.0000\n",
      "Epoch 294/300\n",
      "2000/2000 [==============================] - 0s 154us/step - loss: 3.6630e-07 - acc: 1.0000\n",
      "Epoch 295/300\n",
      "2000/2000 [==============================] - 0s 149us/step - loss: 3.6246e-07 - acc: 1.0000\n",
      "Epoch 296/300\n",
      "2000/2000 [==============================] - 0s 149us/step - loss: 3.4902e-07 - acc: 1.0000\n",
      "Epoch 297/300\n",
      "2000/2000 [==============================] - 0s 149us/step - loss: 3.3844e-07 - acc: 1.0000\n",
      "Epoch 298/300\n",
      "2000/2000 [==============================] - 0s 149us/step - loss: 3.3516e-07 - acc: 1.0000\n",
      "Epoch 299/300\n",
      "2000/2000 [==============================] - 0s 149us/step - loss: 3.2672e-07 - acc: 1.0000\n",
      "Epoch 300/300\n",
      "2000/2000 [==============================] - 0s 154us/step - loss: 3.1751e-07 - acc: 1.0000\n"
     ]
    },
    {
     "data": {
      "text/plain": [
       "<keras.callbacks.History at 0x2363163ec18>"
      ]
     },
     "execution_count": 235,
     "metadata": {},
     "output_type": "execute_result"
    }
   ],
   "source": [
    "#train model\n",
    "model_1.fit(X_train, Y_train, epochs=300,  batch_size=32)"
   ]
  },
  {
   "cell_type": "code",
   "execution_count": 241,
   "metadata": {},
   "outputs": [],
   "source": [
    "test_y_predictions = model_1.predict(X_test)"
   ]
  },
  {
   "cell_type": "code",
   "execution_count": 242,
   "metadata": {},
   "outputs": [
    {
     "data": {
      "text/plain": [
       "array([[1.19752331e-12, 5.10520437e-15, 1.00000000e+00],\n",
       "       [1.04968423e-10, 1.58620421e-02, 9.84137952e-01],\n",
       "       [1.48142349e-11, 1.48066803e-07, 9.99999881e-01],\n",
       "       [8.64440437e-07, 2.02552225e-10, 9.99999166e-01],\n",
       "       [4.35028582e-08, 8.81442428e-01, 1.18557580e-01],\n",
       "       [3.46635461e-01, 7.06342103e-13, 6.53364539e-01],\n",
       "       [4.54226121e-13, 4.00341392e-12, 1.00000000e+00],\n",
       "       [7.81971909e-09, 3.87521163e-02, 9.61247861e-01],\n",
       "       [2.64468083e-11, 9.52412784e-01, 4.75871898e-02],\n",
       "       [2.84928918e-01, 7.33054206e-02, 6.41765594e-01],\n",
       "       [8.49337280e-01, 5.97328544e-02, 9.09298062e-02],\n",
       "       [5.05667397e-10, 9.99999881e-01, 1.35436338e-07],\n",
       "       [4.83408774e-04, 9.99516487e-01, 8.80292248e-08],\n",
       "       [8.13617973e-08, 9.99999881e-01, 2.52267096e-10],\n",
       "       [3.29005707e-05, 9.99962687e-01, 4.43858289e-06],\n",
       "       [5.13820086e-16, 1.93798066e-25, 1.00000000e+00],\n",
       "       [2.54408320e-07, 1.65023049e-03, 9.98349547e-01],\n",
       "       [9.14753329e-10, 9.99601305e-01, 3.98705772e-04],\n",
       "       [1.18409738e-09, 1.24863123e-11, 1.00000000e+00],\n",
       "       [1.15154209e-04, 4.22086954e-01, 5.77797830e-01],\n",
       "       [1.36870770e-16, 7.12896790e-03, 9.92870986e-01],\n",
       "       [5.29355527e-15, 8.87759123e-03, 9.91122365e-01],\n",
       "       [9.12763000e-01, 7.96022266e-02, 7.63476314e-03],\n",
       "       [1.26149562e-05, 9.10075038e-09, 9.99987364e-01],\n",
       "       [5.64393471e-04, 9.89278734e-01, 1.01568680e-02],\n",
       "       [4.23846021e-03, 9.95757163e-01, 4.41819611e-06],\n",
       "       [1.18540186e-06, 9.99996185e-01, 2.62246567e-06],\n",
       "       [7.97270374e-08, 3.41120409e-03, 9.96588707e-01],\n",
       "       [3.05654964e-07, 7.51116371e-04, 9.99248564e-01],\n",
       "       [6.31762657e-19, 3.60594991e-11, 1.00000000e+00],\n",
       "       [5.42445434e-07, 3.26619655e-01, 6.73379779e-01],\n",
       "       [8.79808784e-01, 3.07549117e-03, 1.17115699e-01],\n",
       "       [6.82581484e-01, 7.45063872e-11, 3.17418516e-01],\n",
       "       [1.36087558e-10, 9.99678850e-01, 3.21203726e-04],\n",
       "       [6.85915253e-08, 1.26776338e-01, 8.73223662e-01],\n",
       "       [1.34836739e-06, 9.99682307e-01, 3.16411461e-04],\n",
       "       [1.51058259e-07, 2.40916479e-03, 9.97590661e-01],\n",
       "       [3.29736689e-11, 9.99999404e-01, 6.05048342e-07],\n",
       "       [1.04732765e-03, 3.96200721e-06, 9.98948753e-01],\n",
       "       [7.16430975e-07, 3.44649702e-01, 6.55349612e-01],\n",
       "       [3.23786398e-09, 5.61717991e-03, 9.94382739e-01],\n",
       "       [2.98118683e-11, 5.63172176e-10, 1.00000000e+00],\n",
       "       [2.10028397e-16, 3.20945484e-12, 1.00000000e+00],\n",
       "       [1.78268735e-07, 9.88629647e-04, 9.99011159e-01],\n",
       "       [6.80667945e-05, 9.99856234e-01, 7.56287263e-05],\n",
       "       [3.45477133e-07, 2.87761992e-07, 9.99999404e-01],\n",
       "       [9.78147008e-11, 2.82769208e-03, 9.97172296e-01],\n",
       "       [8.72189910e-15, 9.99996901e-01, 3.09662983e-06],\n",
       "       [3.08517483e-05, 9.99959111e-01, 9.96373547e-06],\n",
       "       [5.06309152e-06, 9.62439850e-02, 9.03750956e-01],\n",
       "       [3.55671451e-04, 2.33859494e-02, 9.76258457e-01],\n",
       "       [1.57282798e-11, 4.68151906e-12, 1.00000000e+00],\n",
       "       [5.61347768e-08, 1.23462558e-03, 9.98765349e-01],\n",
       "       [1.59546421e-08, 1.06454872e-01, 8.93545151e-01],\n",
       "       [1.24941793e-16, 9.99625325e-01, 3.74633411e-04],\n",
       "       [1.71017204e-03, 9.98289764e-01, 3.72506455e-14],\n",
       "       [1.53887632e-11, 1.59797713e-03, 9.98402059e-01],\n",
       "       [1.08863624e-07, 5.91165647e-02, 9.40883338e-01],\n",
       "       [8.84796592e-09, 3.07252444e-03, 9.96927440e-01],\n",
       "       [2.25523422e-09, 1.28906406e-02, 9.87109303e-01],\n",
       "       [2.22847890e-02, 9.77713764e-01, 1.46458854e-06],\n",
       "       [3.22809123e-04, 4.67248773e-03, 9.95004714e-01],\n",
       "       [1.39176642e-10, 9.65381801e-01, 3.46181765e-02],\n",
       "       [4.47444606e-08, 4.56687855e-03, 9.95433092e-01],\n",
       "       [7.65567311e-05, 9.99691486e-01, 2.32057791e-04],\n",
       "       [8.85895036e-13, 3.78469080e-02, 9.62153137e-01],\n",
       "       [6.08936404e-08, 1.65737292e-03, 9.98342514e-01],\n",
       "       [9.99921918e-01, 3.83637780e-05, 3.96617215e-05],\n",
       "       [3.32119328e-08, 2.60270876e-03, 9.97397304e-01],\n",
       "       [1.97726653e-08, 1.27165564e-04, 9.99872804e-01],\n",
       "       [9.69661063e-09, 4.57574241e-03, 9.95424211e-01],\n",
       "       [7.07383592e-08, 1.66806323e-03, 9.98331845e-01],\n",
       "       [1.78147346e-08, 9.99995112e-01, 4.88831165e-06],\n",
       "       [6.17500722e-01, 1.94819469e-03, 3.80551070e-01],\n",
       "       [6.05826708e-11, 2.93949270e-04, 9.99705970e-01],\n",
       "       [5.79041074e-14, 3.14804602e-15, 1.00000000e+00],\n",
       "       [5.58366179e-01, 4.28009659e-01, 1.36241466e-02],\n",
       "       [3.02240602e-03, 9.05064821e-01, 9.19127315e-02],\n",
       "       [8.62817302e-08, 9.99999881e-01, 3.72600534e-10],\n",
       "       [1.21033977e-18, 4.70181823e-14, 1.00000000e+00],\n",
       "       [6.73975112e-12, 4.87195402e-02, 9.51280475e-01],\n",
       "       [3.48397977e-10, 1.00000000e+00, 4.65422190e-08],\n",
       "       [2.64445216e-18, 3.70170169e-14, 1.00000000e+00],\n",
       "       [5.08857845e-08, 9.99999881e-01, 8.00866502e-08],\n",
       "       [1.15616742e-16, 2.18580335e-13, 1.00000000e+00],\n",
       "       [9.99986887e-01, 5.30447020e-09, 1.31107690e-05],\n",
       "       [9.99871254e-01, 1.28780346e-04, 1.67217761e-15],\n",
       "       [4.22187168e-06, 9.98205662e-01, 1.79018592e-03],\n",
       "       [2.96784675e-19, 9.94826972e-01, 5.17304102e-03],\n",
       "       [5.01126159e-13, 1.00000000e+00, 4.54767853e-17],\n",
       "       [1.00000000e+00, 7.52680200e-16, 5.22371568e-09],\n",
       "       [1.22318268e-02, 9.80588377e-01, 7.17977015e-03],\n",
       "       [9.99994755e-01, 5.29002182e-06, 3.36268533e-16],\n",
       "       [9.02544315e-08, 3.24420750e-01, 6.75579190e-01],\n",
       "       [7.55395746e-11, 2.00566137e-04, 9.99799430e-01],\n",
       "       [3.78786140e-08, 9.33771282e-02, 9.06622887e-01],\n",
       "       [5.77893253e-08, 1.72628625e-03, 9.98273611e-01],\n",
       "       [1.18028710e-12, 4.54558917e-13, 1.00000000e+00],\n",
       "       [4.88197088e-01, 1.30189464e-05, 5.11789858e-01],\n",
       "       [1.57954645e-08, 7.81352460e-01, 2.18647525e-01],\n",
       "       [4.42024108e-12, 1.00000000e+00, 3.43720041e-15],\n",
       "       [2.70681937e-07, 4.91297336e-10, 9.99999762e-01],\n",
       "       [5.63373348e-09, 1.00000000e+00, 4.77617781e-15],\n",
       "       [1.87476590e-01, 2.84531862e-02, 7.84070194e-01],\n",
       "       [3.84245266e-20, 7.63982721e-03, 9.92360175e-01],\n",
       "       [3.34916641e-19, 3.70566858e-12, 1.00000000e+00],\n",
       "       [1.11840992e-15, 2.24106892e-16, 1.00000000e+00],\n",
       "       [6.68594424e-08, 2.16522608e-02, 9.78347659e-01],\n",
       "       [8.29641940e-05, 9.99917030e-01, 2.45455972e-13],\n",
       "       [3.46108031e-10, 2.42986454e-04, 9.99756992e-01],\n",
       "       [1.69683688e-07, 9.99999881e-01, 6.29736454e-12],\n",
       "       [9.97215509e-01, 4.57861315e-05, 2.73872260e-03],\n",
       "       [3.45913104e-13, 4.71377049e-10, 1.00000000e+00],\n",
       "       [1.58358514e-02, 7.30005422e-06, 9.84156907e-01],\n",
       "       [1.83200757e-06, 1.49879051e-13, 9.99998212e-01],\n",
       "       [3.14435638e-05, 9.99968529e-01, 1.16975388e-10],\n",
       "       [8.73696627e-05, 5.52983815e-03, 9.94382739e-01],\n",
       "       [6.12867135e-09, 1.00000000e+00, 1.79957096e-13],\n",
       "       [1.28228608e-10, 1.00000000e+00, 2.53184709e-08],\n",
       "       [9.46973860e-01, 5.29381409e-02, 8.79116269e-05],\n",
       "       [3.89463156e-02, 2.06793888e-11, 9.61053669e-01],\n",
       "       [1.88021204e-06, 3.42271873e-03, 9.96575415e-01],\n",
       "       [1.63947675e-07, 9.99999762e-01, 1.03328354e-07],\n",
       "       [3.04311065e-08, 9.99999762e-01, 2.32746345e-07],\n",
       "       [6.87229047e-08, 4.45693225e-08, 9.99999881e-01],\n",
       "       [2.38869488e-01, 7.52986610e-01, 8.14397074e-03],\n",
       "       [9.92635190e-01, 7.36485701e-03, 7.71138531e-09],\n",
       "       [8.36714447e-01, 1.44733921e-01, 1.85515694e-02],\n",
       "       [9.99747097e-01, 2.52890051e-04, 1.42327827e-12],\n",
       "       [9.89099920e-01, 8.11795355e-04, 1.00882603e-02],\n",
       "       [7.34583496e-14, 4.32080153e-13, 1.00000000e+00],\n",
       "       [3.14083905e-03, 9.96844888e-01, 1.42760309e-05],\n",
       "       [6.12350705e-04, 2.58852850e-07, 9.99387383e-01],\n",
       "       [1.64466721e-04, 1.40160933e-04, 9.99695420e-01],\n",
       "       [3.76016322e-16, 4.69790151e-10, 1.00000000e+00],\n",
       "       [6.25018093e-11, 9.99955416e-01, 4.45693222e-05],\n",
       "       [1.38472290e-15, 4.94513245e-07, 9.99999523e-01],\n",
       "       [3.22356283e-21, 1.93620259e-11, 1.00000000e+00],\n",
       "       [1.45674370e-08, 1.84974950e-02, 9.81502473e-01],\n",
       "       [1.90517996e-02, 3.38547863e-02, 9.47093427e-01],\n",
       "       [3.00785885e-08, 1.00000000e+00, 1.37545220e-08],\n",
       "       [2.21398958e-11, 2.52126808e-09, 1.00000000e+00],\n",
       "       [5.88794291e-01, 3.75714444e-05, 4.11168188e-01],\n",
       "       [5.17008516e-08, 1.24807539e-03, 9.98751879e-01],\n",
       "       [2.76287125e-07, 5.56750223e-03, 9.94432271e-01],\n",
       "       [1.75084131e-11, 9.99890804e-01, 1.09207838e-04],\n",
       "       [9.99638796e-01, 2.15987234e-06, 3.59044760e-04],\n",
       "       [7.91060870e-07, 9.99996781e-01, 2.39053361e-06],\n",
       "       [2.16499426e-13, 9.99974847e-01, 2.51971705e-05],\n",
       "       [4.36379936e-13, 8.78747016e-07, 9.99999166e-01],\n",
       "       [3.81480786e-05, 9.99390721e-01, 5.71166282e-04],\n",
       "       [2.01106444e-02, 9.79889333e-01, 1.55534809e-19],\n",
       "       [8.00462585e-10, 1.00000000e+00, 1.59417423e-12],\n",
       "       [1.37558825e-10, 5.55887679e-03, 9.94441092e-01],\n",
       "       [4.87228530e-03, 9.93995905e-01, 1.13175542e-03],\n",
       "       [1.21731063e-07, 9.99999881e-01, 2.34764153e-10],\n",
       "       [1.36287195e-13, 1.51212886e-12, 1.00000000e+00],\n",
       "       [9.65477705e-01, 2.50759814e-03, 3.20147127e-02],\n",
       "       [1.01257701e-05, 1.72726501e-14, 9.99989867e-01],\n",
       "       [9.08384905e-08, 3.19809164e-03, 9.96801853e-01],\n",
       "       [9.99998927e-01, 9.15677390e-07, 1.56167644e-07],\n",
       "       [3.93852941e-04, 9.99606073e-01, 7.94555959e-08],\n",
       "       [4.71897434e-12, 1.00000000e+00, 1.06355337e-14],\n",
       "       [2.94802397e-01, 2.64913513e-09, 7.05197632e-01],\n",
       "       [2.54899624e-06, 3.82181724e-06, 9.99993682e-01],\n",
       "       [2.44627833e-01, 7.52208412e-01, 3.16373655e-03],\n",
       "       [1.52318005e-13, 6.86639461e-12, 1.00000000e+00],\n",
       "       [3.89291781e-05, 9.99961019e-01, 2.90391328e-13],\n",
       "       [1.16307197e-09, 9.87520218e-01, 1.24797337e-02],\n",
       "       [7.64332924e-07, 3.31198535e-05, 9.99966145e-01],\n",
       "       [5.92545922e-16, 1.00000000e+00, 4.67853985e-11],\n",
       "       [1.09286630e-05, 9.23532322e-02, 9.07635808e-01],\n",
       "       [3.32956667e-08, 1.75720197e-03, 9.98242736e-01],\n",
       "       [5.86706506e-07, 3.22418877e-13, 9.99999404e-01],\n",
       "       [5.41134429e-11, 9.75235701e-01, 2.47642677e-02],\n",
       "       [1.46951797e-05, 9.98951197e-01, 1.03417179e-03],\n",
       "       [6.75523140e-08, 1.38652651e-03, 9.98613358e-01],\n",
       "       [5.95920980e-01, 1.82010044e-04, 4.03896987e-01],\n",
       "       [2.13392166e-04, 9.15456116e-01, 8.43305215e-02],\n",
       "       [6.94151865e-08, 9.99999881e-01, 1.50653534e-08],\n",
       "       [1.58602989e-13, 2.16740091e-06, 9.99997854e-01],\n",
       "       [9.04254518e-11, 3.93088441e-03, 9.96069074e-01],\n",
       "       [9.99995470e-01, 4.51982169e-06, 5.63937341e-09],\n",
       "       [2.53656731e-06, 2.79863104e-02, 9.72011149e-01],\n",
       "       [1.49572315e-06, 5.99789321e-01, 4.00209129e-01],\n",
       "       [9.50689719e-05, 3.03020269e-01, 6.96884692e-01],\n",
       "       [4.64973673e-02, 9.52204764e-01, 1.29784818e-03],\n",
       "       [4.94212518e-11, 9.61595319e-08, 9.99999881e-01],\n",
       "       [8.78597319e-01, 5.79776503e-02, 6.34250492e-02],\n",
       "       [1.57564943e-06, 2.07419725e-05, 9.99977708e-01],\n",
       "       [1.79084542e-03, 9.97685790e-01, 5.23364986e-04],\n",
       "       [2.14124629e-09, 3.25587647e-12, 1.00000000e+00],\n",
       "       [4.14948602e-07, 7.55482353e-04, 9.99244094e-01],\n",
       "       [1.45537388e-05, 4.30554519e-06, 9.99981165e-01],\n",
       "       [3.49284336e-02, 9.65071619e-01, 1.29308751e-18],\n",
       "       [9.98946607e-01, 9.73758404e-04, 7.97248722e-05],\n",
       "       [1.01538348e-07, 2.02951953e-03, 9.97970402e-01],\n",
       "       [9.94423926e-01, 9.31189570e-05, 5.48295956e-03],\n",
       "       [5.12050406e-07, 3.89526744e-10, 9.99999523e-01],\n",
       "       [2.38298926e-05, 2.29533568e-01, 7.70442545e-01],\n",
       "       [5.13930088e-12, 8.64382207e-01, 1.35617852e-01],\n",
       "       [2.00570184e-06, 3.61860037e-01, 6.38137937e-01],\n",
       "       [2.70611986e-06, 9.99979258e-01, 1.80181651e-05],\n",
       "       [1.82354997e-04, 7.02504331e-05, 9.99747336e-01],\n",
       "       [4.44136727e-09, 2.48016883e-03, 9.97519791e-01],\n",
       "       [9.98740971e-01, 1.17278611e-03, 8.63771202e-05],\n",
       "       [2.36452524e-10, 1.00000000e+00, 2.03325161e-12],\n",
       "       [3.82606002e-10, 9.99988437e-01, 1.15095918e-05],\n",
       "       [8.02883267e-01, 1.97052315e-01, 6.44198371e-05],\n",
       "       [7.75544380e-19, 3.83622689e-09, 1.00000000e+00],\n",
       "       [2.26538070e-02, 9.77346182e-01, 4.04564408e-15],\n",
       "       [4.51988279e-04, 9.99548018e-01, 6.81461257e-15],\n",
       "       [2.29427471e-07, 3.84917064e-03, 9.96150613e-01],\n",
       "       [6.15804936e-08, 9.99999881e-01, 2.47773586e-14],\n",
       "       [4.96157482e-02, 8.62926006e-01, 8.74582082e-02],\n",
       "       [3.99697093e-08, 8.62092406e-07, 9.99999046e-01],\n",
       "       [2.82058177e-14, 9.26544845e-01, 7.34551325e-02],\n",
       "       [1.37962131e-09, 1.00000000e+00, 5.73041115e-10],\n",
       "       [1.03681883e-10, 1.02029583e-06, 9.99998927e-01],\n",
       "       [8.70951169e-07, 3.51960553e-05, 9.99963880e-01],\n",
       "       [7.37817132e-08, 9.00895614e-03, 9.90990996e-01],\n",
       "       [2.65402100e-08, 4.13989276e-03, 9.95860040e-01],\n",
       "       [5.56517215e-08, 5.61055727e-03, 9.94389355e-01],\n",
       "       [6.02624721e-13, 3.02873193e-09, 1.00000000e+00],\n",
       "       [1.61646895e-07, 1.80937481e-04, 9.99818981e-01],\n",
       "       [2.95902058e-08, 7.50499498e-03, 9.92494941e-01],\n",
       "       [2.72935645e-12, 9.99755561e-01, 2.44392140e-04],\n",
       "       [2.66662425e-08, 5.11314836e-04, 9.99488592e-01],\n",
       "       [3.45374840e-09, 2.01300576e-01, 7.98699379e-01],\n",
       "       [1.05363622e-04, 1.25811307e-03, 9.98636544e-01],\n",
       "       [5.79521620e-18, 1.67517877e-09, 1.00000000e+00],\n",
       "       [1.56145438e-03, 9.98377800e-01, 6.06667454e-05],\n",
       "       [4.24196607e-14, 1.00000000e+00, 1.02006274e-13],\n",
       "       [8.17434862e-02, 9.18256342e-01, 1.13886124e-07],\n",
       "       [3.80190945e-09, 1.99740678e-02, 9.80025887e-01],\n",
       "       [6.57661733e-18, 7.43485495e-09, 1.00000000e+00],\n",
       "       [1.27906516e-01, 9.70269903e-04, 8.71123195e-01],\n",
       "       [9.97812867e-01, 2.18694075e-03, 8.90136675e-08],\n",
       "       [9.14389773e-08, 4.51594684e-03, 9.95483994e-01],\n",
       "       [1.59911385e-12, 3.30266765e-08, 1.00000000e+00],\n",
       "       [4.46962291e-13, 1.00000000e+00, 3.28928609e-14],\n",
       "       [2.83382473e-08, 4.84628428e-04, 9.99515295e-01],\n",
       "       [9.59669590e-01, 5.56884297e-05, 4.02747020e-02],\n",
       "       [1.15003580e-08, 4.37535971e-01, 5.62464058e-01],\n",
       "       [2.07811965e-07, 5.97768159e-14, 9.99999762e-01],\n",
       "       [1.86195025e-29, 1.00000000e+00, 1.82657303e-08],\n",
       "       [6.94476351e-11, 1.02738865e-01, 8.97261083e-01],\n",
       "       [9.91873464e-15, 9.99999404e-01, 5.75721913e-07],\n",
       "       [7.50560005e-08, 7.44891493e-03, 9.92550969e-01],\n",
       "       [4.62876937e-09, 9.92867164e-04, 9.99007165e-01],\n",
       "       [1.72069043e-01, 5.58717370e-01, 2.69213676e-01],\n",
       "       [4.57473325e-05, 6.02301909e-04, 9.99351919e-01],\n",
       "       [9.99999881e-01, 8.06983067e-08, 6.52342580e-09],\n",
       "       [9.78182554e-01, 8.08715541e-03, 1.37302987e-02],\n",
       "       [7.89910999e-08, 9.99998808e-01, 1.08292090e-06],\n",
       "       [5.32347864e-12, 9.99926209e-01, 7.37677619e-05],\n",
       "       [1.98538237e-05, 4.90873074e-03, 9.95071411e-01],\n",
       "       [1.23420940e-13, 5.77373044e-07, 9.99999404e-01],\n",
       "       [2.29437053e-02, 9.77038562e-01, 1.77510574e-05],\n",
       "       [2.72416173e-07, 4.57908325e-02, 9.54208910e-01],\n",
       "       [6.41423625e-08, 1.78010459e-03, 9.98219788e-01],\n",
       "       [9.27427948e-08, 9.99999881e-01, 1.27737482e-17],\n",
       "       [2.88395132e-12, 1.70176529e-04, 9.99829769e-01],\n",
       "       [5.74043725e-07, 9.99982238e-01, 1.71152169e-05],\n",
       "       [9.72123502e-08, 1.23521604e-03, 9.98764753e-01],\n",
       "       [7.97016710e-08, 1.86438556e-03, 9.98135567e-01],\n",
       "       [3.33221460e-13, 1.48731375e-17, 1.00000000e+00],\n",
       "       [2.53281835e-03, 9.97466564e-01, 5.59545526e-07],\n",
       "       [8.32450373e-19, 1.40316245e-10, 1.00000000e+00],\n",
       "       [2.60459748e-03, 1.07962906e-05, 9.97384608e-01],\n",
       "       [1.22207500e-01, 1.66638420e-05, 8.77775848e-01],\n",
       "       [4.39475265e-08, 1.00000000e+00, 7.26888341e-11],\n",
       "       [4.15063681e-07, 5.48813143e-04, 9.99450743e-01],\n",
       "       [6.81184679e-02, 9.31582630e-01, 2.98983301e-04],\n",
       "       [3.20694842e-18, 1.38629486e-09, 1.00000000e+00],\n",
       "       [9.98728096e-01, 1.27192843e-03, 2.56627817e-15],\n",
       "       [2.00928775e-06, 9.99997973e-01, 1.61517644e-08],\n",
       "       [9.83075738e-01, 7.32035096e-06, 1.69169959e-02],\n",
       "       [1.00000000e+00, 5.29555986e-14, 2.16102093e-14],\n",
       "       [1.68823255e-14, 3.78199749e-10, 1.00000000e+00],\n",
       "       [9.99433577e-01, 1.05731908e-11, 5.66350762e-04],\n",
       "       [6.51031723e-06, 1.53017848e-10, 9.99993443e-01],\n",
       "       [3.62897019e-08, 9.21586354e-04, 9.99078393e-01],\n",
       "       [2.55492100e-10, 3.67597866e-14, 1.00000000e+00],\n",
       "       [1.75895675e-05, 3.00586001e-09, 9.99982357e-01],\n",
       "       [1.89995505e-02, 9.81000423e-01, 2.28856176e-17],\n",
       "       [5.45004646e-08, 3.51562654e-03, 9.96484280e-01],\n",
       "       [1.00531317e-07, 5.18525578e-02, 9.48147416e-01],\n",
       "       [8.18974748e-02, 6.81021538e-06, 9.18095648e-01],\n",
       "       [1.25795037e-08, 1.93086863e-02, 9.80691314e-01],\n",
       "       [2.61698663e-01, 3.79206077e-03, 7.34509289e-01],\n",
       "       [2.13641570e-07, 9.99999762e-01, 1.12577601e-08],\n",
       "       [6.87120569e-11, 9.99999881e-01, 1.66311438e-07],\n",
       "       [5.14950345e-16, 1.00000000e+00, 1.65022516e-15],\n",
       "       [1.26964343e-03, 2.73166001e-01, 7.25564361e-01],\n",
       "       [2.44380516e-08, 6.78048749e-03, 9.93219554e-01],\n",
       "       [9.99968529e-01, 3.15047655e-05, 1.02235394e-10],\n",
       "       [2.17158652e-10, 1.00000000e+00, 1.38580836e-09],\n",
       "       [2.99475732e-06, 9.99995828e-01, 1.24760550e-06],\n",
       "       [6.75294753e-09, 5.00742048e-02, 9.49925721e-01]], dtype=float32)"
      ]
     },
     "execution_count": 242,
     "metadata": {},
     "output_type": "execute_result"
    }
   ],
   "source": [
    "test_y_predictions"
   ]
  },
  {
   "cell_type": "code",
   "execution_count": 244,
   "metadata": {},
   "outputs": [
    {
     "name": "stdout",
     "output_type": "stream",
     "text": [
      "\n",
      "Testing ------------\n",
      "300/300 [==============================] - 0s 93us/step\n"
     ]
    }
   ],
   "source": [
    "print('\\nTesting ------------')\n",
    "# Evaluate the model with the metrics we defined earlier\n",
    "loss, accuracy = model_1.evaluate(X_test, Y_test)\n",
    "\n"
   ]
  },
  {
   "cell_type": "code",
   "execution_count": 149,
   "metadata": {},
   "outputs": [
    {
     "name": "stdout",
     "output_type": "stream",
     "text": [
      "0.31733817\n"
     ]
    }
   ],
   "source": [
    "print( model_1.predict(X_test)[0][0] )"
   ]
  },
  {
   "cell_type": "code",
   "execution_count": 245,
   "metadata": {},
   "outputs": [],
   "source": [
    "# Saving the model\n",
    "from keras.models import load_model\n",
    "model_1.save(\"model_1.h5\")"
   ]
  },
  {
   "cell_type": "code",
   "execution_count": 246,
   "metadata": {},
   "outputs": [
    {
     "data": {
      "text/plain": [
       "<matplotlib.image.AxesImage at 0x23620f88b70>"
      ]
     },
     "execution_count": 246,
     "metadata": {},
     "output_type": "execute_result"
    },
    {
     "data": {
      "image/png": "[encoded data removed]",
      "text/plain": [
       "<Figure size 432x288 with 1 Axes>"
      ]
     },
     "metadata": {},
     "output_type": "display_data"
    }
   ],
   "source": [
    "X_test = generate_a_disk()\n",
    "plt.imshow(X_test.reshape(72, 72), cmap = \"gray\")"
   ]
  },
  {
   "cell_type": "code",
   "execution_count": 247,
   "metadata": {},
   "outputs": [],
   "source": [
    "X_test = X_test.reshape(1, X_test.shape[0])"
   ]
  },
  {
   "cell_type": "code",
   "execution_count": 248,
   "metadata": {},
   "outputs": [
    {
     "data": {
      "text/plain": [
       "array([[0., 1., 0.]], dtype=float32)"
      ]
     },
     "execution_count": 248,
     "metadata": {},
     "output_type": "execute_result"
    }
   ],
   "source": [
    "model_1.predict(X_test)"
   ]
  },
  {
   "cell_type": "markdown",
   "metadata": {},
   "source": [
    "# 3. Visualization of the Solution"
   ]
  },
  {
   "cell_type": "code",
   "execution_count": 259,
   "metadata": {},
   "outputs": [
    {
     "data": {
      "text/plain": [
       "(5184, 3)"
      ]
     },
     "execution_count": 259,
     "metadata": {},
     "output_type": "execute_result"
    }
   ],
   "source": [
    "#Getting weights\n",
    "W = model_1.get_weights()\n",
    "#w10 = W1[:,0]\n",
    "#w11 = W1[:,1]\n",
    "#w12 = W1[:,2]\n",
    "W1 = W[0]"
   ]
  },
  {
   "cell_type": "code",
   "execution_count": 261,
   "metadata": {},
   "outputs": [],
   "source": [
    "import pandas as pd\n",
    "W1_df = pd.DataFrame(W1)\n",
    "rec = W1_df.iloc[:,0]\n",
    "dick = W1_df.iloc[:,1]\n",
    "tri = W1_df.iloc[:,2]"
   ]
  },
  {
   "cell_type": "code",
   "execution_count": 265,
   "metadata": {},
   "outputs": [
    {
     "data": {
      "text/plain": [
       "<matplotlib.image.AxesImage at 0x236211199b0>"
      ]
     },
     "execution_count": 265,
     "metadata": {},
     "output_type": "execute_result"
    },
    {
     "data": {
      "image/png": "[encoded data removed]",
      "text/plain": [
       "<Figure size 432x288 with 1 Axes>"
      ]
     },
     "metadata": {},
     "output_type": "display_data"
    }
   ],
   "source": [
    "plt.imshow(rec.values.reshape(72,72), cmap='Accent')"
   ]
  },
  {
   "cell_type": "code",
   "execution_count": 266,
   "metadata": {},
   "outputs": [
    {
     "data": {
      "text/plain": [
       "<matplotlib.image.AxesImage at 0x2362116e9e8>"
      ]
     },
     "execution_count": 266,
     "metadata": {},
     "output_type": "execute_result"
    },
    {
     "data": {
      "image/png": "[encoded data removed]",
      "text/plain": [
       "<Figure size 432x288 with 1 Axes>"
      ]
     },
     "metadata": {},
     "output_type": "display_data"
    }
   ],
   "source": [
    "plt.imshow(dick.values.reshape(72,72), cmap='Accent')"
   ]
  },
  {
   "cell_type": "code",
   "execution_count": 267,
   "metadata": {},
   "outputs": [
    {
     "data": {
      "text/plain": [
       "<matplotlib.image.AxesImage at 0x236211c5a20>"
      ]
     },
     "execution_count": 267,
     "metadata": {},
     "output_type": "execute_result"
    },
    {
     "data": {
      "image/png": "[encoded data removed]",
      "text/plain": [
       "<Figure size 432x288 with 1 Axes>"
      ]
     },
     "metadata": {},
     "output_type": "display_data"
    }
   ],
   "source": [
    "plt.imshow(tri.values.reshape(72,72), cmap='Accent')"
   ]
  }
 ],
 "metadata": {
  "kernelspec": {
   "display_name": "Python 3",
   "language": "python",
   "name": "python3"
  },
  "language_info": {
   "codemirror_mode": {
    "name": "ipython",
    "version": 3
   },
   "file_extension": ".py",
   "mimetype": "text/x-python",
   "name": "python",
   "nbconvert_exporter": "python",
   "pygments_lexer": "ipython3",
   "version": "3.6.5"
  }
 },
 "nbformat": 4,
 "nbformat_minor": 2
}
