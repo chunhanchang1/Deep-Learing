{
 "cells": [
  {
   "cell_type": "markdown",
   "metadata": {},
   "source": [
    "#  4. A More Difficult Classification Problem "
   ]
  },
  {
   "cell_type": "code",
   "execution_count": 1,
   "metadata": {},
   "outputs": [],
   "source": [
    "def generate_a_drawing(figsize, U, V, noise=0.0):\n",
    "    fig = plt.figure(figsize=(figsize,figsize))\n",
    "    ax = plt.subplot(111)\n",
    "    plt.axis('Off')\n",
    "    ax.set_xlim(0,figsize)\n",
    "    ax.set_ylim(0,figsize)\n",
    "    ax.fill(U, V, \"k\")\n",
    "    fig.canvas.draw()\n",
    "    imdata = np.frombuffer(fig.canvas.tostring_rgb(), dtype=np.uint8)[::3].astype(np.float32)\n",
    "    imdata = imdata + noise * np.random.random(imdata.size)\n",
    "    plt.close(fig)\n",
    "    return imdata\n",
    "\n",
    "def generate_a_rectangle(noise=0.0, free_location=False):\n",
    "    figsize = 1.0    \n",
    "    U = np.zeros(4)\n",
    "    V = np.zeros(4)\n",
    "    if free_location:\n",
    "        corners = np.random.random(4)\n",
    "        top = max(corners[0], corners[1])\n",
    "        bottom = min(corners[0], corners[1])\n",
    "        left = min(corners[2], corners[3])\n",
    "        right = max(corners[2], corners[3])\n",
    "    else:\n",
    "        side = (0.3 + 0.7 * np.random.random()) * figsize\n",
    "        top = figsize/2 + side/2\n",
    "        bottom = figsize/2 - side/2\n",
    "        left = bottom\n",
    "        right = top\n",
    "    U[0] = U[1] = top\n",
    "    U[2] = U[3] = bottom\n",
    "    V[0] = V[3] = left\n",
    "    V[1] = V[2] = right\n",
    "    return generate_a_drawing(figsize, U, V, noise)\n",
    "\n",
    "def generate_a_disk(noise=0.0, free_location=False):\n",
    "    figsize = 1.0\n",
    "    if free_location:\n",
    "        center = np.random.random(2)\n",
    "    else:\n",
    "        center = (figsize/2, figsize/2)\n",
    "    radius = (0.3 + 0.7 * np.random.random()) * figsize/2\n",
    "    N = 50\n",
    "    U = np.zeros(N)\n",
    "    V = np.zeros(N)\n",
    "    i = 0\n",
    "    for t in np.linspace(0, 2*np.pi, N):\n",
    "        U[i] = center[0] + np.cos(t) * radius\n",
    "        V[i] = center[1] + np.sin(t) * radius\n",
    "        i = i + 1\n",
    "    return generate_a_drawing(figsize, U, V, noise)\n",
    "\n",
    "def generate_a_triangle(noise=0.0, free_location=False):\n",
    "    figsize = 1.0\n",
    "    if free_location:\n",
    "        U = np.random.random(3)\n",
    "        V = np.random.random(3)\n",
    "    else:\n",
    "        size = (0.3 + 0.7 * np.random.random())*figsize/2\n",
    "        middle = figsize/2\n",
    "        U = (middle, middle+size, middle-size)\n",
    "        V = (middle+size, middle-size, middle-size)\n",
    "    imdata = generate_a_drawing(figsize, U, V, noise)\n",
    "    return [imdata, [U[0], V[0], U[1], V[1], U[2], V[2]]]\n",
    "\n",
    "def generate_dataset_classification(nb_samples, noise=0.0, free_location=False):\n",
    "    # Getting im_size:\n",
    "    im_size = generate_a_rectangle().shape[0]\n",
    "    X = np.zeros([nb_samples,im_size])\n",
    "    Y = np.zeros(nb_samples)\n",
    "    print('Creating data:')\n",
    "    for i in range(nb_samples):\n",
    "        if i % 10 == 0:\n",
    "            print(i, end=' ')\n",
    "        category = np.random.randint(3)\n",
    "        if category == 0:\n",
    "            X[i] = generate_a_rectangle(noise, free_location)\n",
    "        elif category == 1: \n",
    "            X[i] = generate_a_disk(noise, free_location)\n",
    "        else:\n",
    "            [X[i], V] = generate_a_triangle(noise, free_location)\n",
    "        Y[i] = category\n",
    "    X = (X + noise) / (255 + 2 * noise)\n",
    "    return [X, Y]\n",
    "\n",
    "def generate_test_set_classification():\n",
    "    np.random.seed(42)\n",
    "    [X_test, Y_test] = generate_dataset_classification(300, 20, True)\n",
    "    return [X_test, Y_test]"
   ]
  },
  {
   "cell_type": "code",
   "execution_count": 17,
   "metadata": {},
   "outputs": [],
   "source": [
    "import matplotlib.pyplot as plt\n",
    "get_ipython().run_line_magic('matplotlib', 'inline')\n",
    "import numpy as np\n",
    "from keras.layers import Dense, Activation, Conv2D, MaxPooling2D, Flatten\n",
    "from keras.models import Sequential\n",
    "from keras.utils import to_categorical\n",
    "from keras.utils import np_utils"
   ]
  },
  {
   "cell_type": "code",
   "execution_count": 26,
   "metadata": {},
   "outputs": [],
   "source": [
    "import pandas as pd\n",
    "import keras"
   ]
  },
  {
   "cell_type": "code",
   "execution_count": 28,
   "metadata": {},
   "outputs": [],
   "source": [
    "from keras.layers import Dropout"
   ]
  },
  {
   "cell_type": "code",
   "execution_count": 3,
   "metadata": {},
   "outputs": [
    {
     "name": "stdout",
     "output_type": "stream",
     "text": [
      "Creating data:\n",
      "0 10 20 30 40 50 60 70 80 90 100 110 120 130 140 150 160 170 180 190 200 210 220 230 240 250 260 270 280 290 300 310 320 330 340 350 360 370 380 390 400 410 420 430 440 450 460 470 480 490 500 510 520 530 540 550 560 570 580 590 600 610 620 630 640 650 660 670 680 690 700 710 720 730 740 750 760 770 780 790 800 810 820 830 840 850 860 870 880 890 900 910 920 930 940 950 960 970 980 990 1000 1010 1020 1030 1040 1050 1060 1070 1080 1090 1100 1110 1120 1130 1140 1150 1160 1170 1180 1190 1200 1210 1220 1230 1240 1250 1260 1270 1280 1290 1300 1310 1320 1330 1340 1350 1360 1370 1380 1390 1400 1410 1420 1430 1440 1450 1460 1470 1480 1490 1500 1510 1520 1530 1540 1550 1560 1570 1580 1590 1600 1610 1620 1630 1640 1650 1660 1670 1680 1690 1700 1710 1720 1730 1740 1750 1760 1770 1780 1790 1800 1810 1820 1830 1840 1850 1860 1870 1880 1890 1900 1910 1920 1930 1940 1950 1960 1970 1980 1990 Creating data:\n",
      "0 10 20 30 40 50 60 70 80 90 100 110 120 130 140 150 160 170 180 190 200 210 220 230 240 250 260 270 280 290 "
     ]
    }
   ],
   "source": [
    "#Generating the data\n",
    "[X_train, Y_train] = generate_dataset_classification(2000, 20, True)\n",
    "[X_test, Y_test] = generate_test_set_classification()\n",
    "    "
   ]
  },
  {
   "cell_type": "code",
   "execution_count": 5,
   "metadata": {},
   "outputs": [
    {
     "name": "stdout",
     "output_type": "stream",
     "text": [
      "Train set image:  (2000, 5184)\n",
      "X_train labels:  (2000,)\n"
     ]
    }
   ],
   "source": [
    "print(\"Train set image: \", X_train.shape)\n",
    "print(\"X_train labels: \", Y_train.shape)"
   ]
  },
  {
   "cell_type": "code",
   "execution_count": 6,
   "metadata": {},
   "outputs": [
    {
     "name": "stdout",
     "output_type": "stream",
     "text": [
      "Test set image:  (300, 5184)\n",
      "Test labels:  (300,)\n"
     ]
    }
   ],
   "source": [
    "print(\"Test set image: \", X_test.shape)\n",
    "print(\"Test labels: \", Y_test.shape)"
   ]
  },
  {
   "cell_type": "code",
   "execution_count": 10,
   "metadata": {},
   "outputs": [
    {
     "data": {
      "text/plain": [
       "<matplotlib.image.AxesImage at 0x231010c56d8>"
      ]
     },
     "execution_count": 10,
     "metadata": {},
     "output_type": "execute_result"
    },
    {
     "data": {
      "image/png": "[encoded data removed]",
      "text/plain": [
       "<Figure size 432x288 with 1 Axes>"
      ]
     },
     "metadata": {},
     "output_type": "display_data"
    }
   ],
   "source": [
    "plt.imshow(X_train[0].reshape(72, 72), cmap = \"gray\")\n"
   ]
  },
  {
   "cell_type": "code",
   "execution_count": 9,
   "metadata": {},
   "outputs": [
    {
     "data": {
      "text/plain": [
       "2.0"
      ]
     },
     "execution_count": 9,
     "metadata": {},
     "output_type": "execute_result"
    }
   ],
   "source": [
    "Y_train[0]"
   ]
  },
  {
   "cell_type": "code",
   "execution_count": 12,
   "metadata": {},
   "outputs": [],
   "source": [
    "X_train4d = X_train.reshape(X_train.shape[0], 72, 72, 1).astype(\"float32\")\n",
    "X_test4d = X_test.reshape(X_test.shape[0], 72, 72, 1).astype(\"float32\")"
   ]
  },
  {
   "cell_type": "code",
   "execution_count": 14,
   "metadata": {},
   "outputs": [],
   "source": [
    "X_train4d_normalize = X_train4d / 255\n",
    "X_test4d_normalize = X_test4d /255"
   ]
  },
  {
   "cell_type": "code",
   "execution_count": 18,
   "metadata": {},
   "outputs": [],
   "source": [
    "Y_trainonehot = np_utils.to_categorical(Y_train)\n",
    "Y_testonehot = np_utils.to_categorical(Y_test)"
   ]
  },
  {
   "cell_type": "code",
   "execution_count": 19,
   "metadata": {},
   "outputs": [
    {
     "data": {
      "text/plain": [
       "array([2., 1., 0., ..., 1., 1., 0.])"
      ]
     },
     "execution_count": 19,
     "metadata": {},
     "output_type": "execute_result"
    }
   ],
   "source": [
    "Y_train"
   ]
  },
  {
   "cell_type": "code",
   "execution_count": 20,
   "metadata": {},
   "outputs": [
    {
     "data": {
      "text/plain": [
       "array([[0., 0., 1.],\n",
       "       [0., 1., 0.],\n",
       "       [1., 0., 0.],\n",
       "       ...,\n",
       "       [0., 1., 0.],\n",
       "       [0., 1., 0.],\n",
       "       [1., 0., 0.]], dtype=float32)"
      ]
     },
     "execution_count": 20,
     "metadata": {},
     "output_type": "execute_result"
    }
   ],
   "source": [
    "Y_trainonehot"
   ]
  },
  {
   "cell_type": "code",
   "execution_count": 21,
   "metadata": {},
   "outputs": [],
   "source": [
    "model = Sequential()"
   ]
  },
  {
   "cell_type": "code",
   "execution_count": 23,
   "metadata": {},
   "outputs": [],
   "source": [
    "model.add(Conv2D(filters = 16, kernel_size = (5, 5), padding = \"same\", input_shape = (72, 72, 1), activation = \"relu\"))"
   ]
  },
  {
   "cell_type": "code",
   "execution_count": 24,
   "metadata": {},
   "outputs": [],
   "source": [
    "model.add(Conv2D(filters = 36, kernel_size = (5, 5), padding = \"same\", activation = \"relu\"))"
   ]
  },
  {
   "cell_type": "markdown",
   "metadata": {},
   "source": [
    "Avoiding overfitting"
   ]
  },
  {
   "cell_type": "code",
   "execution_count": 29,
   "metadata": {},
   "outputs": [],
   "source": [
    "model.add(Dropout(0.25))"
   ]
  },
  {
   "cell_type": "code",
   "execution_count": 30,
   "metadata": {},
   "outputs": [],
   "source": [
    "model.add(Flatten())"
   ]
  },
  {
   "cell_type": "code",
   "execution_count": 31,
   "metadata": {},
   "outputs": [],
   "source": [
    "model.add(Dense(128, activation = \"relu\"))"
   ]
  },
  {
   "cell_type": "code",
   "execution_count": 35,
   "metadata": {},
   "outputs": [],
   "source": [
    "model.add(Dense(3, activation = \"softmax\"))"
   ]
  },
  {
   "cell_type": "code",
   "execution_count": 36,
   "metadata": {},
   "outputs": [],
   "source": [
    "model.compile(loss = \"categorical_crossentropy\", optimizer = \"adam\", metrics = [\"accuracy\"]) "
   ]
  },
  {
   "cell_type": "code",
   "execution_count": 37,
   "metadata": {},
   "outputs": [
    {
     "name": "stdout",
     "output_type": "stream",
     "text": [
      "Train on 1600 samples, validate on 400 samples\n",
      "Epoch 1/20\n",
      " - 59s - loss: 1.1063 - acc: 0.3025 - val_loss: 1.0970 - val_acc: 0.3625\n",
      "Epoch 2/20\n",
      " - 43s - loss: 1.1005 - acc: 0.3294 - val_loss: 1.0972 - val_acc: 0.3625\n",
      "Epoch 3/20\n",
      " - 43s - loss: 1.0997 - acc: 0.3269 - val_loss: 1.1010 - val_acc: 0.3150\n",
      "Epoch 4/20\n",
      " - 42s - loss: 1.0994 - acc: 0.3194 - val_loss: 1.0973 - val_acc: 0.3625\n",
      "Epoch 5/20\n",
      " - 42s - loss: 1.0988 - acc: 0.3294 - val_loss: 1.0992 - val_acc: 0.3150\n",
      "Epoch 6/20\n",
      " - 41s - loss: 1.0993 - acc: 0.3294 - val_loss: 1.1008 - val_acc: 0.3150\n",
      "Epoch 7/20\n",
      " - 49s - loss: 1.0981 - acc: 0.4094 - val_loss: 1.0978 - val_acc: 0.3225\n",
      "Epoch 8/20\n",
      " - 45s - loss: 1.0974 - acc: 0.3231 - val_loss: 1.0957 - val_acc: 0.3575\n",
      "Epoch 9/20\n",
      " - 41s - loss: 1.0969 - acc: 0.3331 - val_loss: 1.0955 - val_acc: 0.3700\n",
      "Epoch 10/20\n",
      " - 41s - loss: 1.0941 - acc: 0.3562 - val_loss: 1.0953 - val_acc: 0.3150\n",
      "Epoch 11/20\n",
      " - 41s - loss: 1.0901 - acc: 0.3925 - val_loss: 1.0836 - val_acc: 0.4650\n",
      "Epoch 12/20\n",
      " - 42s - loss: 1.0804 - acc: 0.4406 - val_loss: 1.0743 - val_acc: 0.4375\n",
      "Epoch 13/20\n",
      " - 43s - loss: 1.0669 - acc: 0.4931 - val_loss: 1.0559 - val_acc: 0.4850\n",
      "Epoch 14/20\n",
      " - 43s - loss: 1.0384 - acc: 0.5200 - val_loss: 1.0254 - val_acc: 0.5100\n",
      "Epoch 15/20\n",
      " - 42s - loss: 1.0146 - acc: 0.5169 - val_loss: 1.0184 - val_acc: 0.4775\n",
      "Epoch 16/20\n",
      " - 43s - loss: 1.0002 - acc: 0.5388 - val_loss: 0.9921 - val_acc: 0.5150\n",
      "Epoch 17/20\n",
      " - 43s - loss: 0.9754 - acc: 0.5744 - val_loss: 0.9906 - val_acc: 0.5075\n",
      "Epoch 18/20\n",
      " - 43s - loss: 0.9666 - acc: 0.5638 - val_loss: 0.9627 - val_acc: 0.5425\n",
      "Epoch 19/20\n",
      " - 42s - loss: 0.9408 - acc: 0.5931 - val_loss: 0.9505 - val_acc: 0.5725\n",
      "Epoch 20/20\n",
      " - 47s - loss: 0.9267 - acc: 0.6506 - val_loss: 0.9335 - val_acc: 0.6050\n"
     ]
    }
   ],
   "source": [
    "training = model.fit(x = X_train4d_normalize, y = Y_trainonehot, validation_split = 0.2, epochs = 20, batch_size = 300, verbose = 2)"
   ]
  },
  {
   "cell_type": "code",
   "execution_count": 51,
   "metadata": {},
   "outputs": [
    {
     "name": "stdout",
     "output_type": "stream",
     "text": [
      "300/300 [==============================] - 3s 10ms/step\n"
     ]
    }
   ],
   "source": [
    "loss, accuracy = model.evaluate(X_test4d_normalize, Y_testonehot)"
   ]
  },
  {
   "cell_type": "code",
   "execution_count": 52,
   "metadata": {},
   "outputs": [
    {
     "name": "stdout",
     "output_type": "stream",
     "text": [
      "0.916939131418864 0.603333332935969\n"
     ]
    }
   ],
   "source": [
    "print(loss, accuracy)"
   ]
  }
 ],
 "metadata": {
  "kernelspec": {
   "display_name": "Python 3",
   "language": "python",
   "name": "python3"
  },
  "language_info": {
   "codemirror_mode": {
    "name": "ipython",
    "version": 3
   },
   "file_extension": ".py",
   "mimetype": "text/x-python",
   "name": "python",
   "nbconvert_exporter": "python",
   "pygments_lexer": "ipython3",
   "version": "3.6.5"
  }
 },
 "nbformat": 4,
 "nbformat_minor": 2
}
